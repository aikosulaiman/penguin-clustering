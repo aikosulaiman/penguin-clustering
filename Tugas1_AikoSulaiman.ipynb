{
 "cells": [
  {
   "cell_type": "markdown",
   "source": [
    "<center>\n",
    "<img src=\"https://drive.google.com/uc?id=1f1gGVI-rxcHjA90WEGNvvtSXF1pAxQwg\" alt=\"Fasilkom UI\" width=\"300\"/>\n",
    "\n",
    "CSGE603130 • Kecerdasan Artifisial dan Sains Data Dasar\n",
    "\n",
    "Semester Gasal 2022/2023\n",
    "\n",
    "Fakultas Ilmu Komputer, Universitas Indonesia\n",
    "\n",
    "##**Tugas 1: *Clustering***\n",
    "\n",
    "###**Tenggat Waktu: 8 Oktober 2022, 23.55 WIB**\n",
    "</center>\n",
    "\n",
    "### **Ketentuan:**\n",
    "1. Dokumen Jupyter Notebook yang telah dilengkapi dengan jawaban dapat dikumpulkan dengan format penamaan **Kelas_TugasX_NPM_Nama Lengkap.ipynb**. Contoh: B_Tugas1_1906398881_Thariq Razan.ipynb.\n",
    "2. Pengumpulan tugas dilakukan melalui slot submisi yang telah disediakan di SCeLe. Keterlambatan pengumpulan akan dikenakan penalti sesuai dengan ketentuan pada BRP.\n",
    "3. Tugas ini dirancang sebagai **tugas mandiri**. Plagiarisme tidak diperkenankan dalam bentuk apapun. Adapun kolaborasi berupa diskusi (tanpa menyalin maupun mengambil jawaban orang lain) dan literasi masih diperbolehkan dengan mencantumkan kolaborator dan sumber.\n",
    "4. Soal yang akan dinilai telah diberikan penanda bobot maksimal agar Anda mengetahui berapa poin yang bisa didapatkan. "
   ],
   "metadata": {
    "id": "R39aUrRNqzhJ"
   }
  },
  {
   "cell_type": "markdown",
   "source": [
    "## **Pernyataan Integritas**\n",
    "\n",
    "Wajib diisi. Tanpa pernyataan integritas submisi akan dikenakan penalti."
   ],
   "metadata": {
    "id": "JnRUE1Ul62_R"
   }
  },
  {
   "cell_type": "code",
   "execution_count": 130,
   "source": [
    "# Isi dengan data diri Anda\n",
    "NAMA = \"Aiko Sulaiman\"\n",
    "KELAS = \"C\"\n",
    "NPM = \"2006522190\"\n",
    "\n",
    "# Isi dengan NPM teman yang berdiskusi dengan Anda  \n",
    "KOLABORATOR = []\n",
    "\n",
    "# Isi dengan sumber referensi yang Anda gunakan dalam mengerjakan tugas ini\n",
    "REFERENSI = [\"https://machinelearningmastery.com/one-hot-encoding-for-categorical-data/\",\n",
    "            \"https://towardsdatascience.com/machine-learning-algorithms-part-12-hierarchical-agglomerative-clustering-example-in-python-1e18e0075019\",\n",
    "            \"https://www.analyticsvidhya.com/blog/2019/08/comprehensive-guide-k-means-clustering/,\"\n",
    "            \"https://stackoverflow.com/questions/46108753/what-is-meant-by-the-term-random-state-in-kmeans-function-in-package-sklear\",\n",
    "            \"https://stats.stackexchange.com/questions/144746/k-means-for-non-spherical-non-globular-clusters\",\n",
    "            \"https://www.geeksforgeeks.org/ml-intercluster-and-intracluster-distance/\",\n",
    "            \"https://www.researchgate.net/post/Calculating_Inter_and_intra_cluster_distances_in_K_Means_clustering#:~:text=For%20intra%20cluster%20distance%20use,distance%20between%20the%20clusters%20centroids.\"]"
   ],
   "outputs": [],
   "metadata": {
    "id": "9tnfWWpN7vjq"
   }
  },
  {
   "cell_type": "code",
   "execution_count": 131,
   "source": [
    "PERNYATAAN_INTEGRITAS = \"Saya, %s dari kelas %s dengan NPM %s, menyatakan bahwa seluruh jawaban pada pekerjaan ini murni saya kerjakan sendiri.\\n\\\n",
    "Saya tidak mencontek jawaban, memberikan jawaban, maupun menyalin dari sumber manapun.\\n \\\n",
    "\\n\\\n",
    "Jika saya melanggar pernyataan tersebut, saya siap menerima konsekuensi apapun yang diberikan.\\n   \\\n",
    "(%s)\" % (NAMA, KELAS, NPM, NAMA)\n",
    "\n",
    "print(PERNYATAAN_INTEGRITAS)"
   ],
   "outputs": [
    {
     "output_type": "stream",
     "name": "stdout",
     "text": [
      "Saya, Aiko Sulaiman dari kelas C dengan NPM 2006522190, menyatakan bahwa seluruh jawaban pada pekerjaan ini murni saya kerjakan sendiri.\n",
      "Saya tidak mencontek jawaban, memberikan jawaban, maupun menyalin dari sumber manapun.\n",
      " \n",
      "Jika saya melanggar pernyataan tersebut, saya siap menerima konsekuensi apapun yang diberikan.\n",
      "   (Aiko Sulaiman)\n"
     ]
    }
   ],
   "metadata": {
    "colab": {
     "base_uri": "https://localhost:8080/"
    },
    "id": "KVEdteyu3hot",
    "outputId": "e04bcea7-e41f-459d-92c9-ac925a49c897"
   }
  },
  {
   "cell_type": "markdown",
   "source": [
    "## **Persiapan** [10 poin]\n",
    "Pada tugas ini Anda akan diinstruksikan untuk melakukan *clustering* terhadap dataset yang telah disediakan di SCeLe. Sebelumnya, lakukan EDA untuk lebih memahami dataset tersebut. Lakukan pula *preprocessing* yang diperlukan. \n",
    "\n",
    "Dataset ini mengandung data yang diambil dari observasi ilmuwan terhadap penguin di Antarktika. Terdapat atribut seperti pulau habitat, tebal paruh, dan sebagainya. Pada tugas ini, bantulah ilmuwan untuk mengelompokkan penguin ke klaster tertentu!"
   ],
   "metadata": {
    "id": "lqOWT_bKjYzg"
   }
  },
  {
   "cell_type": "code",
   "execution_count": 132,
   "source": [
    "# Impor library atau modul yang dibutuhkan pada tugas ini\n",
    "import pandas as pd\n",
    "import numpy as np\n",
    "import matplotlib.pyplot as plt\n",
    "import seaborn as sns\n",
    "from sklearn.cluster import KMeans\n",
    "from sklearn.metrics import silhouette_samples, silhouette_score\n",
    "import matplotlib.cm as cm\n",
    "import scipy.cluster.hierarchy as shc\n",
    "from sklearn.cluster import AgglomerativeClustering\n",
    "import plotly.express as px"
   ],
   "outputs": [],
   "metadata": {
    "id": "bUusltQScRDp"
   }
  },
  {
   "cell_type": "markdown",
   "source": [
    "1. Bukalah dataset dan tampilkan cuplikan dari dataset tersebut [1]"
   ],
   "metadata": {
    "id": "KhFKtMTossd8"
   }
  },
  {
   "cell_type": "code",
   "execution_count": 133,
   "source": [
    "df = pd.read_csv('penguin.csv')"
   ],
   "outputs": [],
   "metadata": {}
  },
  {
   "cell_type": "markdown",
   "source": [
    "2. Tampilkan informasi dari dataset tersebut yang paling tidak mencakup jenis kolom dan jumlah *non-null cell* [1]"
   ],
   "metadata": {
    "id": "eemzgA2Vs0ZV"
   }
  },
  {
   "cell_type": "code",
   "execution_count": 134,
   "source": [
    "total_rows, total_attributes = df.shape\n",
    "print('Jumlah data:', total_rows)\n",
    "print(\"Jumlah atribut:\", total_attributes)\n",
    "\n",
    "df.info()"
   ],
   "outputs": [
    {
     "output_type": "stream",
     "name": "stdout",
     "text": [
      "Jumlah data: 344\n",
      "Jumlah atribut: 6\n",
      "<class 'pandas.core.frame.DataFrame'>\n",
      "RangeIndex: 344 entries, 0 to 343\n",
      "Data columns (total 6 columns):\n",
      " #   Column              Non-Null Count  Dtype  \n",
      "---  ------              --------------  -----  \n",
      " 0   pulau_habitat       344 non-null    object \n",
      " 1   panjang_paruh_atas  342 non-null    float64\n",
      " 2   tebal_paruh_atas    342 non-null    float64\n",
      " 3   panjang_sirip       342 non-null    float64\n",
      " 4   massa_tubuh         342 non-null    float64\n",
      " 5   jenis_kelamin       334 non-null    object \n",
      "dtypes: float64(4), object(2)\n",
      "memory usage: 16.2+ KB\n"
     ]
    }
   ],
   "metadata": {}
  },
  {
   "cell_type": "markdown",
   "source": [
    "3. Tampilkan statistika deskriptif dari dataset tersebut [1]"
   ],
   "metadata": {
    "id": "TJ3_hRttt5JQ"
   }
  },
  {
   "cell_type": "code",
   "execution_count": 135,
   "source": [
    "#Describe numerical attribute\n",
    "df.describe()"
   ],
   "outputs": [
    {
     "output_type": "execute_result",
     "data": {
      "text/html": [
       "<div>\n",
       "<style scoped>\n",
       "    .dataframe tbody tr th:only-of-type {\n",
       "        vertical-align: middle;\n",
       "    }\n",
       "\n",
       "    .dataframe tbody tr th {\n",
       "        vertical-align: top;\n",
       "    }\n",
       "\n",
       "    .dataframe thead th {\n",
       "        text-align: right;\n",
       "    }\n",
       "</style>\n",
       "<table border=\"1\" class=\"dataframe\">\n",
       "  <thead>\n",
       "    <tr style=\"text-align: right;\">\n",
       "      <th></th>\n",
       "      <th>panjang_paruh_atas</th>\n",
       "      <th>tebal_paruh_atas</th>\n",
       "      <th>panjang_sirip</th>\n",
       "      <th>massa_tubuh</th>\n",
       "    </tr>\n",
       "  </thead>\n",
       "  <tbody>\n",
       "    <tr>\n",
       "      <th>count</th>\n",
       "      <td>342.000000</td>\n",
       "      <td>342.000000</td>\n",
       "      <td>342.000000</td>\n",
       "      <td>342.000000</td>\n",
       "    </tr>\n",
       "    <tr>\n",
       "      <th>mean</th>\n",
       "      <td>43.921930</td>\n",
       "      <td>17.151170</td>\n",
       "      <td>200.915205</td>\n",
       "      <td>4201.754386</td>\n",
       "    </tr>\n",
       "    <tr>\n",
       "      <th>std</th>\n",
       "      <td>5.459584</td>\n",
       "      <td>1.974793</td>\n",
       "      <td>14.061714</td>\n",
       "      <td>801.954536</td>\n",
       "    </tr>\n",
       "    <tr>\n",
       "      <th>min</th>\n",
       "      <td>32.100000</td>\n",
       "      <td>13.100000</td>\n",
       "      <td>172.000000</td>\n",
       "      <td>2700.000000</td>\n",
       "    </tr>\n",
       "    <tr>\n",
       "      <th>25%</th>\n",
       "      <td>39.225000</td>\n",
       "      <td>15.600000</td>\n",
       "      <td>190.000000</td>\n",
       "      <td>3550.000000</td>\n",
       "    </tr>\n",
       "    <tr>\n",
       "      <th>50%</th>\n",
       "      <td>44.450000</td>\n",
       "      <td>17.300000</td>\n",
       "      <td>197.000000</td>\n",
       "      <td>4050.000000</td>\n",
       "    </tr>\n",
       "    <tr>\n",
       "      <th>75%</th>\n",
       "      <td>48.500000</td>\n",
       "      <td>18.700000</td>\n",
       "      <td>213.000000</td>\n",
       "      <td>4750.000000</td>\n",
       "    </tr>\n",
       "    <tr>\n",
       "      <th>max</th>\n",
       "      <td>59.600000</td>\n",
       "      <td>21.500000</td>\n",
       "      <td>231.000000</td>\n",
       "      <td>6300.000000</td>\n",
       "    </tr>\n",
       "  </tbody>\n",
       "</table>\n",
       "</div>"
      ],
      "text/plain": [
       "       panjang_paruh_atas  tebal_paruh_atas  panjang_sirip  massa_tubuh\n",
       "count          342.000000        342.000000     342.000000   342.000000\n",
       "mean            43.921930         17.151170     200.915205  4201.754386\n",
       "std              5.459584          1.974793      14.061714   801.954536\n",
       "min             32.100000         13.100000     172.000000  2700.000000\n",
       "25%             39.225000         15.600000     190.000000  3550.000000\n",
       "50%             44.450000         17.300000     197.000000  4050.000000\n",
       "75%             48.500000         18.700000     213.000000  4750.000000\n",
       "max             59.600000         21.500000     231.000000  6300.000000"
      ]
     },
     "metadata": {},
     "execution_count": 135
    }
   ],
   "metadata": {}
  },
  {
   "cell_type": "code",
   "execution_count": 136,
   "source": [
    "#Describe categorical attribute\n",
    "display(df.describe(include=object))"
   ],
   "outputs": [
    {
     "output_type": "display_data",
     "data": {
      "text/html": [
       "<div>\n",
       "<style scoped>\n",
       "    .dataframe tbody tr th:only-of-type {\n",
       "        vertical-align: middle;\n",
       "    }\n",
       "\n",
       "    .dataframe tbody tr th {\n",
       "        vertical-align: top;\n",
       "    }\n",
       "\n",
       "    .dataframe thead th {\n",
       "        text-align: right;\n",
       "    }\n",
       "</style>\n",
       "<table border=\"1\" class=\"dataframe\">\n",
       "  <thead>\n",
       "    <tr style=\"text-align: right;\">\n",
       "      <th></th>\n",
       "      <th>pulau_habitat</th>\n",
       "      <th>jenis_kelamin</th>\n",
       "    </tr>\n",
       "  </thead>\n",
       "  <tbody>\n",
       "    <tr>\n",
       "      <th>count</th>\n",
       "      <td>344</td>\n",
       "      <td>334</td>\n",
       "    </tr>\n",
       "    <tr>\n",
       "      <th>unique</th>\n",
       "      <td>3</td>\n",
       "      <td>3</td>\n",
       "    </tr>\n",
       "    <tr>\n",
       "      <th>top</th>\n",
       "      <td>Biscoe</td>\n",
       "      <td>MALE</td>\n",
       "    </tr>\n",
       "    <tr>\n",
       "      <th>freq</th>\n",
       "      <td>168</td>\n",
       "      <td>168</td>\n",
       "    </tr>\n",
       "  </tbody>\n",
       "</table>\n",
       "</div>"
      ],
      "text/plain": [
       "       pulau_habitat jenis_kelamin\n",
       "count            344           334\n",
       "unique             3             3\n",
       "top           Biscoe          MALE\n",
       "freq             168           168"
      ]
     },
     "metadata": {}
    }
   ],
   "metadata": {}
  },
  {
   "cell_type": "code",
   "execution_count": 137,
   "source": [
    "df.jenis_kelamin.unique()"
   ],
   "outputs": [
    {
     "output_type": "execute_result",
     "data": {
      "text/plain": [
       "array(['MALE', 'FEMALE', nan, '.'], dtype=object)"
      ]
     },
     "metadata": {},
     "execution_count": 137
    }
   ],
   "metadata": {}
  },
  {
   "cell_type": "code",
   "execution_count": 138,
   "source": [
    "#Menghapus row dengan atribut jenis_kelamin yang memiliki value = '.'\n",
    "df.drop(df.loc[df.jenis_kelamin == '.'].index, inplace=True)"
   ],
   "outputs": [],
   "metadata": {}
  },
  {
   "cell_type": "markdown",
   "source": [
    "4. Lakukan penanganan terhadap *missing values* [2]"
   ],
   "metadata": {
    "id": "s6pNZF79uQb9"
   }
  },
  {
   "cell_type": "code",
   "execution_count": 139,
   "source": [
    "# Cek missing value\n",
    "def cek_null(df):\n",
    "    col_na = df.isnull().sum().sort_values(ascending=False)\n",
    "    percent = col_na / len(df)\n",
    "    \n",
    "    missing_data = pd.concat([col_na, percent], axis=1, keys=['Total null', 'Percent'])\n",
    "    print(missing_data[missing_data['Total null'] > 0])"
   ],
   "outputs": [],
   "metadata": {}
  },
  {
   "cell_type": "code",
   "execution_count": 140,
   "source": [
    "cek_null(df)"
   ],
   "outputs": [
    {
     "output_type": "stream",
     "name": "stdout",
     "text": [
      "                    Total null   Percent\n",
      "jenis_kelamin               10  0.029155\n",
      "panjang_paruh_atas           2  0.005831\n",
      "tebal_paruh_atas             2  0.005831\n",
      "panjang_sirip                2  0.005831\n",
      "massa_tubuh                  2  0.005831\n"
     ]
    }
   ],
   "metadata": {}
  },
  {
   "cell_type": "code",
   "execution_count": 141,
   "source": [
    "#Mendrop missing value\n",
    "df_cleaned = df.dropna()\n",
    "df_cleaned.isnull().sum()"
   ],
   "outputs": [
    {
     "output_type": "execute_result",
     "data": {
      "text/plain": [
       "pulau_habitat         0\n",
       "panjang_paruh_atas    0\n",
       "tebal_paruh_atas      0\n",
       "panjang_sirip         0\n",
       "massa_tubuh           0\n",
       "jenis_kelamin         0\n",
       "dtype: int64"
      ]
     },
     "metadata": {},
     "execution_count": 141
    }
   ],
   "metadata": {}
  },
  {
   "cell_type": "markdown",
   "source": [
    "5. Buatlah visualisasi untuk memahami distribusi data dari sebuah atribut dan memahami hubungan antar dua buah atribut [3]"
   ],
   "metadata": {
    "id": "aTQx3f55vP9F"
   }
  },
  {
   "cell_type": "code",
   "execution_count": 142,
   "source": [
    "visualisasi = sns.pairplot(df_cleaned)\n",
    "visualisasi.fig.suptitle(\"Visualisasi distribusi data dan scatterplot antar atribut dataset penguin\", y=1.05, size = 16)"
   ],
   "outputs": [
    {
     "output_type": "execute_result",
     "data": {
      "text/plain": [
       "Text(0.5, 1.05, 'Visualisasi distribusi data dan scatterplot antar atribut dataset penguin')"
      ]
     },
     "metadata": {},
     "execution_count": 142
    },
    {
     "output_type": "display_data",
     "data": {
      "image/png": "[encoded data removed]",
      "text/plain": [
       "<Figure size 720x720 with 20 Axes>"
      ]
     },
     "metadata": {
      "needs_background": "light"
     }
    }
   ],
   "metadata": {}
  },
  {
   "cell_type": "markdown",
   "source": [
    "6. Pilihlah paling tidak 2 atribut yang Anda ingin gunakan untuk penentuan klaster. Jelaskan alasan Anda memilih kombinasi atribut tersebut [2]\n",
    "\n",
    "> **Catatan**: Anda diharapkan untuk **bereksperimen** dengan pilihan atribut tersebut. Anda dapat lanjut ke bagian *clustering*, lalu kembali lagi ke bagian pemilihan atribut jika ingin mencoba kombinasi atribut yang berbeda. Pastikan jawaban akhir Anda dapat menghasilkan klaster yang **bermakna** (menghasilkan *insight* tertentu)."
   ],
   "metadata": {
    "id": "L7VpzD9TuiwP"
   }
  },
  {
   "cell_type": "markdown",
   "source": [
    ">Dari visualisasi distribusi data serta scatter plot di atas, saya memutuskan untuk memilih atribut tebal_paruh_atas dan massa_tubuh untuk digunakan sebagai penentuan klaster karena dari scatter plot tebal_paruh_atas dan massa_tubuh terlihat data dari kedua atribut sudah cukup terpisah. Lalu ketika akhirnya dihitung rata-rata silhouette score dari kedua atribut tersebut juga menunjukkan nilai yang cukup tinggi ketika menghitung silhouette score untuk menentukan nilai K dibanding dengan atribut-atribut lainnya"
   ],
   "metadata": {}
  },
  {
   "cell_type": "markdown",
   "source": [
    "## **K-Means Clustering** [30 poin]\n",
    "K-Means merupakan salah satu metode *clustering* yang paling populer. 'K' pada kata K-Means mengacu pada banyaknya kelompok yang ingin dibentuk. Menentukan nilai 'K' bersifat krusial karena memengaruhi kualitas *clustering*. Secara umum, kita dapat menerapkan K-Means secara manual dengan mengikuti langkah-langkah berikut: \n",
    "1. Menentukan nilai K dan memilih K buah centroid (titik pusat) secara acak\n",
    "2. Mengelompokkan titik-titik data yang ada ke centroid terdekat\n",
    "3. Menentukan ulang centroid dengan mengkalkulasi rata-rata data dari kelompok yang terbentuk\n",
    "4. Mengulangi langkah 1-3 sampai memenuhi *stopping criteria*\n"
   ],
   "metadata": {
    "id": "0YKFSluKDZ0e"
   }
  },
  {
   "cell_type": "markdown",
   "source": [
    "7. Manfaatkan metrik *silhouette coefficient* untuk menentukan nilai K yang optimal (hint: lakukan *silhoutte analysis* terhadap nilai 2<=K<=6) [12]"
   ],
   "metadata": {
    "id": "gcKs2hrCR1CL"
   }
  },
  {
   "cell_type": "code",
   "execution_count": 143,
   "source": [
    "from sklearn.preprocessing import StandardScaler\n",
    "scaler = StandardScaler()\n",
    "\n",
    "#Melakukan standardization untuk data yang ingin dilakukan clustering\n",
    "x = df_cleaned[['tebal_paruh_atas','massa_tubuh']]\n",
    "scaler.fit(x)\n",
    "x_scaled = scaler.transform(x)"
   ],
   "outputs": [],
   "metadata": {}
  },
  {
   "cell_type": "code",
   "execution_count": 144,
   "source": [
    "#Menentukan nilai K dengan silhouette score\n",
    "kmax = 6\n",
    "for k in range(2, kmax+1):\n",
    "  kmeans = KMeans(n_clusters = k).fit(x_scaled)\n",
    "  labels = kmeans.labels_\n",
    "  print(\"Untuk n_clusters =\",k, \", Rata-rata silhouette score-nya adalah :\", silhouette_score(x_scaled, labels))"
   ],
   "outputs": [
    {
     "output_type": "stream",
     "name": "stdout",
     "text": [
      "Untuk n_clusters = 2 , Rata-rata silhouette score-nya adalah : 0.6191333309580637\n",
      "Untuk n_clusters = 3 , Rata-rata silhouette score-nya adalah : 0.49598641965298534\n",
      "Untuk n_clusters = 4 , Rata-rata silhouette score-nya adalah : 0.4667054233140721\n",
      "Untuk n_clusters = 5 , Rata-rata silhouette score-nya adalah : 0.40375311386636553\n",
      "Untuk n_clusters = 6 , Rata-rata silhouette score-nya adalah : 0.4056813842359121\n"
     ]
    }
   ],
   "metadata": {}
  },
  {
   "cell_type": "markdown",
   "source": [
    ">Dari code di atas, terlihat bahwa nilai K = 2 memiliki rata-rata silhouette score yang paling tinggi sehingga akhirnya diputuskan untuk memilih nilai K = 2"
   ],
   "metadata": {}
  },
  {
   "cell_type": "markdown",
   "source": [
    "8. Terapkan metode K-Means kepada dataframe yang sudah Anda siapkan, gunakan nilai K yang Anda tentukan di atas [8]"
   ],
   "metadata": {
    "id": "QlgWO1FsqLfq"
   }
  },
  {
   "cell_type": "code",
   "execution_count": 145,
   "source": [
    "kmeans = KMeans(n_clusters = 2)\n",
    " \n",
    "label = kmeans.fit_predict(x_scaled)"
   ],
   "outputs": [],
   "metadata": {}
  },
  {
   "cell_type": "markdown",
   "source": [
    "9. Visualisasikan klaster yang ada [5]"
   ],
   "metadata": {
    "id": "q6EhdtBgqQFu"
   }
  },
  {
   "cell_type": "code",
   "execution_count": 146,
   "source": [
    "fig = px.scatter(x_scaled, x=x_scaled[:, 0], y=x_scaled[:, 1], color=label,\n",
    "    labels={\n",
    "                     \"x\": \"Tebal paruh atas\",\n",
    "                     \"y\": \"Massa tubuh\",\n",
    "                 },\n",
    "    title=\"Clustering tebal paruh atas & massa tubuh dengan K-Means\")\n",
    "\n",
    "fig.show()"
   ],
   "outputs": [
    {
     "output_type": "display_data",
     "data": {
      "application/vnd.plotly.v1+json": {
       "data": [
        {
         "hovertemplate": "Tebal paruh atas=%{x}<br>Massa tubuh=%{y}<br>color=%{marker.color}<extra></extra>",
         "legendgroup": "",
         "marker": {
          "color": [
           1,
           1,
           1,
           1,
           1,
           1,
           1,
           1,
           1,
           1,
           1,
           1,
           1,
           1,
           1,
           1,
           1,
           1,
           1,
           1,
           1,
           1,
           1,
           1,
           1,
           1,
           1,
           1,
           1,
           1,
           1,
           1,
           1,
           1,
           1,
           1,
           1,
           1,
           1,
           1,
           1,
           1,
           1,
           1,
           1,
           1,
           1,
           1,
           1,
           1,
           1,
           1,
           1,
           1,
           1,
           1,
           1,
           1,
           1,
           1,
           1,
           1,
           1,
           1,
           1,
           1,
           1,
           1,
           1,
           1,
           1,
           1,
           1,
           1,
           1,
           1,
           1,
           1,
           1,
           1,
           1,
           1,
           1,
           1,
           1,
           1,
           1,
           1,
           1,
           1,
           1,
           1,
           1,
           1,
           1,
           1,
           1,
           1,
           1,
           1,
           1,
           1,
           1,
           1,
           1,
           1,
           1,
           1,
           1,
           1,
           1,
           1,
           1,
           1,
           1,
           1,
           1,
           1,
           1,
           1,
           1,
           1,
           1,
           1,
           1,
           1,
           1,
           1,
           1,
           1,
           1,
           1,
           1,
           1,
           1,
           1,
           1,
           1,
           1,
           1,
           1,
           1,
           1,
           1,
           1,
           1,
           1,
           1,
           1,
           1,
           1,
           1,
           1,
           1,
           1,
           1,
           1,
           1,
           1,
           1,
           1,
           1,
           1,
           1,
           1,
           1,
           1,
           1,
           1,
           1,
           1,
           1,
           1,
           1,
           1,
           1,
           1,
           1,
           1,
           1,
           1,
           1,
           1,
           1,
           1,
           1,
           1,
           1,
           1,
           1,
           1,
           1,
           1,
           1,
           1,
           1,
           1,
           1,
           1,
           1,
           1,
           1,
           1,
           1,
           1,
           1,
           1,
           1,
           1,
           1,
           1,
           1,
           1,
           1,
           0,
           0,
           0,
           0,
           0,
           0,
           0,
           0,
           0,
           0,
           0,
           0,
           0,
           0,
           0,
           0,
           0,
           0,
           0,
           0,
           0,
           0,
           0,
           0,
           0,
           0,
           0,
           0,
           0,
           0,
           0,
           0,
           0,
           0,
           0,
           0,
           0,
           0,
           0,
           0,
           0,
           0,
           0,
           0,
           0,
           0,
           0,
           0,
           0,
           0,
           0,
           0,
           0,
           0,
           0,
           0,
           0,
           0,
           0,
           0,
           0,
           0,
           0,
           0,
           0,
           0,
           0,
           0,
           0,
           0,
           0,
           0,
           0,
           0,
           0,
           0,
           0,
           0,
           0,
           0,
           0,
           0,
           0,
           0,
           0,
           0,
           0,
           0,
           0,
           0,
           0,
           0,
           0,
           0,
           0,
           0,
           0,
           0,
           0,
           0,
           0,
           0,
           0,
           0,
           0,
           0,
           0,
           0,
           0,
           0,
           0,
           0,
           0,
           0,
           0,
           0,
           0,
           0,
           0
          ],
          "coloraxis": "coloraxis",
          "symbol": "circle"
         },
         "mode": "markers",
         "name": "",
         "orientation": "v",
         "showlegend": false,
         "x": [
          0.7807321043966328,
          0.11958396669455443,
          0.4247292610185911,
          1.0858773987206694,
          1.7470255364227476,
          0.3230141629105795,
          1.2384500458826877,
          0.22129906480256786,
          2.0521708307467827,
          2.0013132816927777,
          0.3230141629105795,
          0.9333047515586511,
          1.7978830854767527,
          0.6281594572346144,
          2.204743477908801,
          0.5773019081806094,
          0.7807321043966328,
          1.0350198496666627,
          0.47558681007259784,
          0.017868868586542803,
          0.8824472025046444,
          0.7298745553426278,
          0.3738717119645844,
          0.7298745553426278,
          0.8824472025046444,
          -0.23641887668348716,
          0.47558681007259784,
          0.3230141629105795,
          0.8824472025046444,
          -0.08384622952146882,
          2.0013132816927777,
          1.441880242098711,
          0.679017006288621,
          1.0858773987206694,
          0.9841623006126577,
          0.4247292610185911,
          0.6281594572346144,
          0.679017006288621,
          1.2893075949366926,
          -0.13470377857547555,
          0.8315896534506394,
          0.9333047515586511,
          0.3738717119645844,
          2.0521708307467827,
          0.27215661385657275,
          0.8824472025046444,
          0.3738717119645844,
          1.187592496828681,
          0.47558681007259784,
          0.7298745553426278,
          0.17044151574856115,
          0.8315896534506394,
          -0.28727642573749207,
          0.9841623006126577,
          -0.13470377857547555,
          2.0013132816927777,
          -0.08384622952146882,
          0.5264443591266027,
          -0.03298868046746211,
          0.4247292610185911,
          -0.49070662195351716,
          0.9841623006126577,
          -0.28727642573749207,
          1.1367349477746742,
          0.9333047515586511,
          0.6281594572346144,
          0.017868868586542803,
          0.8824472025046444,
          0.17044151574856115,
          0.679017006288621,
          -0.18556132762948047,
          1.1367349477746742,
          -0.5415641710075221,
          0.9841623006126577,
          0.017868868586542803,
          0.22129906480256786,
          0.8315896534506394,
          1.1367349477746742,
          0.3230141629105795,
          1.5944528892607293,
          1.187592496828681,
          0.7298745553426278,
          1.0350198496666627,
          0.8315896534506394,
          0.4247292610185911,
          0.47558681007259784,
          -0.03298868046746211,
          0.47558681007259784,
          0.06872641764054951,
          0.8824472025046444,
          0.7298745553426278,
          0.679017006288621,
          -0.5415641710075221,
          0.679017006288621,
          0.3738717119645844,
          1.441880242098711,
          -0.5924217200615288,
          1.441880242098711,
          0.7298745553426278,
          0.8824472025046444,
          0.017868868586542803,
          1.441880242098711,
          -0.08384622952146882,
          0.9333047515586511,
          -0.3381339747914988,
          1.5944528892607293,
          0.27215661385657275,
          1.187592496828681,
          1.7978830854767527,
          0.5773019081806094,
          -0.08384622952146882,
          1.696167987368741,
          -0.08384622952146882,
          0.7298745553426278,
          0.017868868586542803,
          1.3401651439906994,
          -0.08384622952146882,
          0.679017006288621,
          -0.6432792691155346,
          0.9333047515586511,
          0.22129906480256786,
          0.5773019081806094,
          -0.03298868046746211,
          0.4247292610185911,
          0.3738717119645844,
          1.0350198496666627,
          0.679017006288621,
          0.679017006288621,
          0.22129906480256786,
          0.17044151574856115,
          0.17044151574856115,
          1.4927377911527178,
          -0.3381339747914988,
          0.3738717119645844,
          -0.03298868046746211,
          0.017868868586542803,
          -0.8467094653315588,
          -0.08384622952146882,
          -0.18556132762948047,
          0.7807321043966328,
          0.7298745553426278,
          0.6281594572346144,
          0.3230141629105795,
          0.47558681007259784,
          -0.03298868046746211,
          0.679017006288621,
          0.3738717119645844,
          1.187592496828681,
          1.0350198496666627,
          0.7807321043966328,
          1.3401651439906994,
          0.3230141629105795,
          0.5264443591266027,
          0.5264443591266027,
          0.8824472025046444,
          1.3910226930447043,
          0.3230141629105795,
          1.5944528892607293,
          0.06872641764054951,
          0.47558681007259784,
          -0.03298868046746211,
          1.2384500458826877,
          1.441880242098711,
          0.3230141629105795,
          0.7298745553426278,
          0.5264443591266027,
          0.06872641764054951,
          0.17044151574856115,
          -0.28727642573749207,
          1.1367349477746742,
          0.3738717119645844,
          0.9333047515586511,
          0.6281594572346144,
          0.9333047515586511,
          0.3230141629105795,
          1.441880242098711,
          -0.28727642573749207,
          1.8487406345307593,
          -0.23641887668348716,
          0.8315896534506394,
          0.7298745553426278,
          -0.18556132762948047,
          0.5773019081806094,
          1.7978830854767527,
          -0.28727642573749207,
          1.3910226930447043,
          1.187592496828681,
          0.17044151574856115,
          0.9841623006126577,
          -0.08384622952146882,
          0.3738717119645844,
          0.679017006288621,
          0.3738717119645844,
          1.2384500458826877,
          0.7807321043966328,
          0.06872641764054951,
          -0.3889915238455055,
          0.9333047515586511,
          0.06872641764054951,
          1.2893075949366926,
          0.06872641764054951,
          0.8315896534506394,
          -0.28727642573749207,
          1.3910226930447043,
          0.8315896534506394,
          1.1367349477746742,
          1.187592496828681,
          -0.3381339747914988,
          -0.08384622952146882,
          1.3401651439906994,
          0.47558681007259784,
          0.5264443591266027,
          0.9333047515586511,
          0.7807321043966328,
          -2.016433093573697,
          -0.4398490728995104,
          -1.5587151520876428,
          -0.9992821124935771,
          -1.3552849558716187,
          -1.8638604464116786,
          -1.304427406817613,
          -0.9484245634395704,
          -1.9147179954656846,
          -0.8975670143855645,
          -1.762145348303667,
          -0.5415641710075221,
          -1.762145348303667,
          -1.304427406817613,
          -1.304427406817613,
          -0.7449943672235471,
          -1.8638604464116786,
          -0.9992821124935771,
          -1.3552849558716187,
          -1.0501396615475829,
          -1.4570000539796304,
          -1.3552849558716187,
          -1.3552849558716187,
          -0.6941368181695404,
          -2.067290642627703,
          -1.0501396615475829,
          -1.1009972106015886,
          -1.4570000539796304,
          -0.9484245634395704,
          -0.9484245634395704,
          -1.507857603033637,
          -1.3552849558716187,
          -0.08384622952146882,
          -1.2027123087096003,
          -0.4398490728995104,
          -1.762145348303667,
          0.06872641764054951,
          -1.8130028973576728,
          -0.7449943672235471,
          -1.762145348303667,
          -0.5924217200615288,
          -1.762145348303667,
          -1.1009972106015886,
          -0.6432792691155346,
          -1.6604302501956545,
          -1.6604302501956545,
          -0.6432792691155346,
          -1.9655755445196903,
          -0.6941368181695404,
          -1.507857603033637,
          -1.5587151520876428,
          -1.4061425049256244,
          -1.1009972106015886,
          -1.4061425049256244,
          -0.8975670143855645,
          -1.6604302501956545,
          -1.1009972106015886,
          -1.3552849558716187,
          -0.9484245634395704,
          -1.7112877992496602,
          -1.1518547596555946,
          -1.6604302501956545,
          -0.7449943672235471,
          -1.507857603033637,
          -0.18556132762948047,
          -0.49070662195351716,
          -1.507857603033637,
          -1.1009972106015886,
          -1.1009972106015886,
          -0.7958519162775529,
          -0.7958519162775529,
          -1.2027123087096003,
          -1.1009972106015886,
          -0.5924217200615288,
          -1.507857603033637,
          -0.4398490728995104,
          -1.7112877992496602,
          -0.3889915238455055,
          -1.3552849558716187,
          -0.7958519162775529,
          -1.304427406817613,
          -0.6432792691155346,
          -1.7112877992496602,
          0.06872641764054951,
          -1.4061425049256244,
          -1.507857603033637,
          -1.6095727011416487,
          -0.08384622952146882,
          -1.1009972106015886,
          -0.03298868046746211,
          -1.3552849558716187,
          -0.5415641710075221,
          -1.253569857763607,
          -0.7449943672235471,
          -0.6941368181695404,
          -1.304427406817613,
          -1.4061425049256244,
          -0.3381339747914988,
          -1.1009972106015886,
          -0.08384622952146882,
          -0.8467094653315588,
          -1.1009972106015886,
          -0.5415641710075221,
          -1.253569857763607,
          -0.6941368181695404,
          -1.6095727011416487,
          -1.0501396615475829,
          -0.9992821124935771,
          -0.6432792691155346,
          -0.9992821124935771,
          -0.4398490728995104,
          -1.5587151520876428,
          -0.5924217200615288,
          -0.49070662195351716,
          -1.762145348303667,
          -1.4570000539796304,
          -0.7449943672235471,
          -1.2027123087096003,
          -0.5415641710075221
         ],
         "xaxis": "x",
         "y": [
          -0.5684747832140795,
          -0.5062861817652331,
          -1.1903607977025437,
          -0.941606391907158,
          -0.6928519861117723,
          -0.7239462868361956,
          0.5820143435895789,
          -1.25254939915139,
          -0.5062861817652331,
          0.23997703562092373,
          -0.6306633846629259,
          -0.941606391907158,
          0.36435423851861654,
          -1.097077895529274,
          -0.008777370174461903,
          -1.0037949933560044,
          -0.7550405875606188,
          -0.5062861817652331,
          -0.3197203774186939,
          -0.5062861817652331,
          -0.5062861817652331,
          -0.8172291890094652,
          -1.25254939915139,
          -1.3147380006002365,
          -0.3197203774186939,
          -1.1903607977025437,
          -0.3819089788675403,
          -1.1281721962536972,
          -0.3819089788675403,
          -1.097077895529274,
          -0.07096597162330831,
          -0.3197203774186939,
          -0.8172291890094652,
          -1.1281721962536972,
          0.5509200428651557,
          -1.3147380006002365,
          -0.3819089788675403,
          -1.376926602049083,
          0.23997703562092373,
          -1.5013038049467757,
          0.48873144141630936,
          -0.9727006926315812,
          -0.941606391907158,
          -0.07096597162330831,
          -0.8794177904583116,
          0.1155998327232309,
          -0.941606391907158,
          -0.1953431745210011,
          -1.6256810078444686,
          -0.6306633846629259,
          -0.8172291890094652,
          -0.5062861817652331,
          -1.687869609293315,
          -0.5684747832140795,
          -1.3147380006002365,
          0.23997703562092373,
          -0.7550405875606188,
          -0.1953431745210011,
          -1.687869609293315,
          -0.3197203774186939,
          -1.0659835948048508,
          -0.13315457307215472,
          -1.4391152034979293,
          0.3021656370697701,
          -0.7550405875606188,
          -0.3819089788675403,
          -0.8172291890094652,
          -0.07096597162330831,
          -0.6306633846629259,
          0.053411231274384505,
          -0.6306633846629259,
          -0.3819089788675403,
          -0.8172291890094652,
          -0.25753177596984755,
          -1.25254939915139,
          0.6131086443140021,
          -0.5062861817652331,
          -0.008777370174461903,
          -1.0659835948048508,
          -0.8172291890094652,
          -0.5062861817652331,
          -0.8794177904583116,
          -0.3197203774186939,
          -0.7550405875606188,
          -0.8172291890094652,
          0.1155998327232309,
          -1.0037949933560044,
          0.3021656370697701,
          -1.1281721962536972,
          0.1155998327232309,
          -0.6306633846629259,
          0.17778843417207732,
          -1.6256810078444686,
          -0.13315457307215472,
          -0.5995690839385027,
          0.6442029450384253,
          -1.408020902773506,
          0.053411231274384505,
          -1.5945867071200452,
          -0.8172291890094652,
          -0.5684747832140795,
          -0.3819089788675403,
          -1.2836436998758132,
          0.7063915464872718,
          -0.47519188104080995,
          0.48873144141630936,
          -1.25254939915139,
          0.08450553199880771,
          -0.3819089788675403,
          -0.16424887379657793,
          -1.6256810078444686,
          -0.5373804824896563,
          -1.0659835948048508,
          -1.097077895529274,
          -1.3147380006002365,
          -0.8794177904583116,
          -0.941606391907158,
          -0.41300327959196353,
          -1.4391152034979293,
          -0.25753177596984755,
          -1.1592664969781203,
          0.1155998327232309,
          -1.4391152034979293,
          -0.25753177596984755,
          -1.097077895529274,
          -0.8794177904583116,
          -0.8794177904583116,
          0.33325993779419333,
          -0.9727006926315812,
          -0.3819089788675403,
          -1.2836436998758132,
          -0.2886260766942707,
          -1.0037949933560044,
          0.053411231274384505,
          -1.0037949933560044,
          -0.9105120911827348,
          -1.4391152034979293,
          -0.5995690839385027,
          -1.5013038049467757,
          -0.6928519861117723,
          0.053411231274384505,
          -0.9105120911827348,
          -0.941606391907158,
          -0.5684747832140795,
          -0.6306633846629259,
          -0.25753177596984755,
          -0.8794177904583116,
          -0.3819089788675403,
          -0.6928519861117723,
          -0.8483234897338884,
          -0.5995690839385027,
          -0.3197203774186939,
          -1.1903607977025437,
          -0.5684747832140795,
          -0.07096597162330831,
          -0.6306633846629259,
          -0.5062861817652331,
          -0.5373804824896563,
          -0.6306633846629259,
          -0.1953431745210011,
          -0.786134888285042,
          -0.1953431745210011,
          -1.1281721962536972,
          -0.6306633846629259,
          -0.941606391907158,
          0.23997703562092373,
          -0.7550405875606188,
          -1.0037949933560044,
          -1.6256810078444686,
          -0.5062861817652331,
          -1.1281721962536972,
          -0.07096597162330831,
          -1.0037949933560044,
          -0.5062861817652331,
          -0.6306633846629259,
          0.42654283996746295,
          -1.25254939915139,
          0.1155998327232309,
          -1.0659835948048508,
          -0.13315457307215472,
          -0.7550405875606188,
          -0.3819089788675403,
          -0.44409758031638674,
          0.737485847211695,
          -1.874435413639854,
          0.36435423851861654,
          -0.3197203774186939,
          -0.6928519861117723,
          -0.8172291890094652,
          -0.8794177904583116,
          -0.6617576853873491,
          0.3021656370697701,
          -1.0037949933560044,
          0.1155998327232309,
          -1.1903607977025437,
          -0.6617576853873491,
          -1.097077895529274,
          -0.3197203774186939,
          -0.7550405875606188,
          -0.1953431745210011,
          -1.0659835948048508,
          -0.941606391907158,
          -1.1903607977025437,
          -0.1953431745210011,
          -0.5062861817652331,
          -0.8483234897338884,
          -0.3197203774186939,
          -0.6928519861117723,
          -0.6928519861117723,
          -0.25753177596984755,
          -1.0037949933560044,
          -0.5373804824896563,
          -0.13315457307215472,
          -0.5373804824896563,
          0.36435423851861654,
          1.8568806732909302,
          0.3021656370697701,
          1.8568806732909302,
          1.483749064597852,
          0.42654283996746295,
          0.737485847211695,
          1.2349946588024663,
          0.23997703562092373,
          1.1728060573536199,
          0.5509200428651557,
          1.670314868944391,
          0.5509200428651557,
          2.0434464776374694,
          -0.008777370174461903,
          2.0434464776374694,
          -0.07096597162330831,
          2.603143890677087,
          0.737485847211695,
          1.4215604631490055,
          1.8568806732909302,
          0.9862402530070806,
          0.23997703562092373,
          1.048428854455927,
          0.9862402530070806,
          1.1106174559047735,
          1.7946920718420838,
          0.48873144141630936,
          1.670314868944391,
          1.2971832602513127,
          0.6131086443140021,
          1.048428854455927,
          2.292200883432855,
          1.1728060573536199,
          1.483749064597852,
          0.9240516515582342,
          1.2971832602513127,
          0.17778843417207732,
          1.4215604631490055,
          -0.3197203774186939,
          1.8568806732909302,
          0.1155998327232309,
          0.6752972457628486,
          1.670314868944391,
          0.8618630501093878,
          -0.008777370174461903,
          1.483749064597852,
          1.1106174559047735,
          1.3593718617001591,
          0.7996744486605414,
          1.3593718617001591,
          0.23997703562092373,
          0.9862402530070806,
          0.8618630501093878,
          1.048428854455927,
          0.1155998327232309,
          0.9862402530070806,
          0.3021656370697701,
          1.670314868944391,
          -0.008777370174461903,
          1.3593718617001591,
          0.23997703562092373,
          1.7946920718420838,
          0.6131086443140021,
          1.8568806732909302,
          1.981257876188623,
          0.6131086443140021,
          1.670314868944391,
          0.6752972457628486,
          0.9862402530070806,
          1.1106174559047735,
          1.2349946588024663,
          0.6131086443140021,
          1.981257876188623,
          0.48873144141630936,
          2.230012281984009,
          0.6752972457628486,
          2.1678236805351623,
          0.5198257421407325,
          1.5459376660466984,
          0.6442029450384253,
          1.4215604631490055,
          0.6752972457628486,
          1.7325034703932374,
          0.48873144141630936,
          1.3593718617001591,
          0.8307687493849646,
          1.670314868944391,
          0.9240516515582342,
          1.483749064597852,
          0.6752972457628486,
          1.7946920718420838,
          0.7996744486605414,
          1.2349946588024663,
          0.892957350833811,
          0.8307687493849646,
          0.5198257421407325,
          1.2971832602513127,
          0.7996744486605414,
          1.7325034703932374,
          0.9551459522826574,
          1.6081262674955448,
          1.6081262674955448,
          0.6131086443140021,
          1.6081262674955448,
          0.45763714069188616,
          1.6081262674955448,
          0.9862402530070806,
          2.1678236805351623,
          0.5509200428651557,
          1.6081262674955448,
          0.20888273489650053,
          2.0434464776374694,
          2.230012281984009,
          0.892957350833811,
          0.7996744486605414,
          1.9190692747397766,
          1.2349946588024663,
          1.483749064597852
         ],
         "yaxis": "y",
         "type": "scatter"
        }
       ],
       "layout": {
        "template": {
         "data": {
          "histogram2dcontour": [
           {
            "type": "histogram2dcontour",
            "colorbar": {
             "outlinewidth": 0,
             "ticks": ""
            },
            "colorscale": [
             [
              0,
              "#0d0887"
             ],
             [
              0.1111111111111111,
              "#46039f"
             ],
             [
              0.2222222222222222,
              "#7201a8"
             ],
             [
              0.3333333333333333,
              "#9c179e"
             ],
             [
              0.4444444444444444,
              "#bd3786"
             ],
             [
              0.5555555555555556,
              "#d8576b"
             ],
             [
              0.6666666666666666,
              "#ed7953"
             ],
             [
              0.7777777777777778,
              "#fb9f3a"
             ],
             [
              0.8888888888888888,
              "#fdca26"
             ],
             [
              1,
              "#f0f921"
             ]
            ]
           }
          ],
          "choropleth": [
           {
            "type": "choropleth",
            "colorbar": {
             "outlinewidth": 0,
             "ticks": ""
            }
           }
          ],
          "histogram2d": [
           {
            "type": "histogram2d",
            "colorbar": {
             "outlinewidth": 0,
             "ticks": ""
            },
            "colorscale": [
             [
              0,
              "#0d0887"
             ],
             [
              0.1111111111111111,
              "#46039f"
             ],
             [
              0.2222222222222222,
              "#7201a8"
             ],
             [
              0.3333333333333333,
              "#9c179e"
             ],
             [
              0.4444444444444444,
              "#bd3786"
             ],
             [
              0.5555555555555556,
              "#d8576b"
             ],
             [
              0.6666666666666666,
              "#ed7953"
             ],
             [
              0.7777777777777778,
              "#fb9f3a"
             ],
             [
              0.8888888888888888,
              "#fdca26"
             ],
             [
              1,
              "#f0f921"
             ]
            ]
           }
          ],
          "heatmap": [
           {
            "type": "heatmap",
            "colorbar": {
             "outlinewidth": 0,
             "ticks": ""
            },
            "colorscale": [
             [
              0,
              "#0d0887"
             ],
             [
              0.1111111111111111,
              "#46039f"
             ],
             [
              0.2222222222222222,
              "#7201a8"
             ],
             [
              0.3333333333333333,
              "#9c179e"
             ],
             [
              0.4444444444444444,
              "#bd3786"
             ],
             [
              0.5555555555555556,
              "#d8576b"
             ],
             [
              0.6666666666666666,
              "#ed7953"
             ],
             [
              0.7777777777777778,
              "#fb9f3a"
             ],
             [
              0.8888888888888888,
              "#fdca26"
             ],
             [
              1,
              "#f0f921"
             ]
            ]
           }
          ],
          "heatmapgl": [
           {
            "type": "heatmapgl",
            "colorbar": {
             "outlinewidth": 0,
             "ticks": ""
            },
            "colorscale": [
             [
              0,
              "#0d0887"
             ],
             [
              0.1111111111111111,
              "#46039f"
             ],
             [
              0.2222222222222222,
              "#7201a8"
             ],
             [
              0.3333333333333333,
              "#9c179e"
             ],
             [
              0.4444444444444444,
              "#bd3786"
             ],
             [
              0.5555555555555556,
              "#d8576b"
             ],
             [
              0.6666666666666666,
              "#ed7953"
             ],
             [
              0.7777777777777778,
              "#fb9f3a"
             ],
             [
              0.8888888888888888,
              "#fdca26"
             ],
             [
              1,
              "#f0f921"
             ]
            ]
           }
          ],
          "contourcarpet": [
           {
            "type": "contourcarpet",
            "colorbar": {
             "outlinewidth": 0,
             "ticks": ""
            }
           }
          ],
          "contour": [
           {
            "type": "contour",
            "colorbar": {
             "outlinewidth": 0,
             "ticks": ""
            },
            "colorscale": [
             [
              0,
              "#0d0887"
             ],
             [
              0.1111111111111111,
              "#46039f"
             ],
             [
              0.2222222222222222,
              "#7201a8"
             ],
             [
              0.3333333333333333,
              "#9c179e"
             ],
             [
              0.4444444444444444,
              "#bd3786"
             ],
             [
              0.5555555555555556,
              "#d8576b"
             ],
             [
              0.6666666666666666,
              "#ed7953"
             ],
             [
              0.7777777777777778,
              "#fb9f3a"
             ],
             [
              0.8888888888888888,
              "#fdca26"
             ],
             [
              1,
              "#f0f921"
             ]
            ]
           }
          ],
          "surface": [
           {
            "type": "surface",
            "colorbar": {
             "outlinewidth": 0,
             "ticks": ""
            },
            "colorscale": [
             [
              0,
              "#0d0887"
             ],
             [
              0.1111111111111111,
              "#46039f"
             ],
             [
              0.2222222222222222,
              "#7201a8"
             ],
             [
              0.3333333333333333,
              "#9c179e"
             ],
             [
              0.4444444444444444,
              "#bd3786"
             ],
             [
              0.5555555555555556,
              "#d8576b"
             ],
             [
              0.6666666666666666,
              "#ed7953"
             ],
             [
              0.7777777777777778,
              "#fb9f3a"
             ],
             [
              0.8888888888888888,
              "#fdca26"
             ],
             [
              1,
              "#f0f921"
             ]
            ]
           }
          ],
          "mesh3d": [
           {
            "type": "mesh3d",
            "colorbar": {
             "outlinewidth": 0,
             "ticks": ""
            }
           }
          ],
          "scatter": [
           {
            "fillpattern": {
             "fillmode": "overlay",
             "size": 10,
             "solidity": 0.2
            },
            "type": "scatter"
           }
          ],
          "parcoords": [
           {
            "type": "parcoords",
            "line": {
             "colorbar": {
              "outlinewidth": 0,
              "ticks": ""
             }
            }
           }
          ],
          "scatterpolargl": [
           {
            "type": "scatterpolargl",
            "marker": {
             "colorbar": {
              "outlinewidth": 0,
              "ticks": ""
             }
            }
           }
          ],
          "bar": [
           {
            "error_x": {
             "color": "#2a3f5f"
            },
            "error_y": {
             "color": "#2a3f5f"
            },
            "marker": {
             "line": {
              "color": "#E5ECF6",
              "width": 0.5
             },
             "pattern": {
              "fillmode": "overlay",
              "size": 10,
              "solidity": 0.2
             }
            },
            "type": "bar"
           }
          ],
          "scattergeo": [
           {
            "type": "scattergeo",
            "marker": {
             "colorbar": {
              "outlinewidth": 0,
              "ticks": ""
             }
            }
           }
          ],
          "scatterpolar": [
           {
            "type": "scatterpolar",
            "marker": {
             "colorbar": {
              "outlinewidth": 0,
              "ticks": ""
             }
            }
           }
          ],
          "histogram": [
           {
            "marker": {
             "pattern": {
              "fillmode": "overlay",
              "size": 10,
              "solidity": 0.2
             }
            },
            "type": "histogram"
           }
          ],
          "scattergl": [
           {
            "type": "scattergl",
            "marker": {
             "colorbar": {
              "outlinewidth": 0,
              "ticks": ""
             }
            }
           }
          ],
          "scatter3d": [
           {
            "type": "scatter3d",
            "line": {
             "colorbar": {
              "outlinewidth": 0,
              "ticks": ""
             }
            },
            "marker": {
             "colorbar": {
              "outlinewidth": 0,
              "ticks": ""
             }
            }
           }
          ],
          "scattermapbox": [
           {
            "type": "scattermapbox",
            "marker": {
             "colorbar": {
              "outlinewidth": 0,
              "ticks": ""
             }
            }
           }
          ],
          "scatterternary": [
           {
            "type": "scatterternary",
            "marker": {
             "colorbar": {
              "outlinewidth": 0,
              "ticks": ""
             }
            }
           }
          ],
          "scattercarpet": [
           {
            "type": "scattercarpet",
            "marker": {
             "colorbar": {
              "outlinewidth": 0,
              "ticks": ""
             }
            }
           }
          ],
          "carpet": [
           {
            "aaxis": {
             "endlinecolor": "#2a3f5f",
             "gridcolor": "white",
             "linecolor": "white",
             "minorgridcolor": "white",
             "startlinecolor": "#2a3f5f"
            },
            "baxis": {
             "endlinecolor": "#2a3f5f",
             "gridcolor": "white",
             "linecolor": "white",
             "minorgridcolor": "white",
             "startlinecolor": "#2a3f5f"
            },
            "type": "carpet"
           }
          ],
          "table": [
           {
            "cells": {
             "fill": {
              "color": "#EBF0F8"
             },
             "line": {
              "color": "white"
             }
            },
            "header": {
             "fill": {
              "color": "#C8D4E3"
             },
             "line": {
              "color": "white"
             }
            },
            "type": "table"
           }
          ],
          "barpolar": [
           {
            "marker": {
             "line": {
              "color": "#E5ECF6",
              "width": 0.5
             },
             "pattern": {
              "fillmode": "overlay",
              "size": 10,
              "solidity": 0.2
             }
            },
            "type": "barpolar"
           }
          ],
          "pie": [
           {
            "automargin": true,
            "type": "pie"
           }
          ]
         },
         "layout": {
          "autotypenumbers": "strict",
          "colorway": [
           "#636efa",
           "#EF553B",
           "#00cc96",
           "#ab63fa",
           "#FFA15A",
           "#19d3f3",
           "#FF6692",
           "#B6E880",
           "#FF97FF",
           "#FECB52"
          ],
          "font": {
           "color": "#2a3f5f"
          },
          "hovermode": "closest",
          "hoverlabel": {
           "align": "left"
          },
          "paper_bgcolor": "white",
          "plot_bgcolor": "#E5ECF6",
          "polar": {
           "bgcolor": "#E5ECF6",
           "angularaxis": {
            "gridcolor": "white",
            "linecolor": "white",
            "ticks": ""
           },
           "radialaxis": {
            "gridcolor": "white",
            "linecolor": "white",
            "ticks": ""
           }
          },
          "ternary": {
           "bgcolor": "#E5ECF6",
           "aaxis": {
            "gridcolor": "white",
            "linecolor": "white",
            "ticks": ""
           },
           "baxis": {
            "gridcolor": "white",
            "linecolor": "white",
            "ticks": ""
           },
           "caxis": {
            "gridcolor": "white",
            "linecolor": "white",
            "ticks": ""
           }
          },
          "coloraxis": {
           "colorbar": {
            "outlinewidth": 0,
            "ticks": ""
           }
          },
          "colorscale": {
           "sequential": [
            [
             0,
             "#0d0887"
            ],
            [
             0.1111111111111111,
             "#46039f"
            ],
            [
             0.2222222222222222,
             "#7201a8"
            ],
            [
             0.3333333333333333,
             "#9c179e"
            ],
            [
             0.4444444444444444,
             "#bd3786"
            ],
            [
             0.5555555555555556,
             "#d8576b"
            ],
            [
             0.6666666666666666,
             "#ed7953"
            ],
            [
             0.7777777777777778,
             "#fb9f3a"
            ],
            [
             0.8888888888888888,
             "#fdca26"
            ],
            [
             1,
             "#f0f921"
            ]
           ],
           "sequentialminus": [
            [
             0,
             "#0d0887"
            ],
            [
             0.1111111111111111,
             "#46039f"
            ],
            [
             0.2222222222222222,
             "#7201a8"
            ],
            [
             0.3333333333333333,
             "#9c179e"
            ],
            [
             0.4444444444444444,
             "#bd3786"
            ],
            [
             0.5555555555555556,
             "#d8576b"
            ],
            [
             0.6666666666666666,
             "#ed7953"
            ],
            [
             0.7777777777777778,
             "#fb9f3a"
            ],
            [
             0.8888888888888888,
             "#fdca26"
            ],
            [
             1,
             "#f0f921"
            ]
           ],
           "diverging": [
            [
             0,
             "#8e0152"
            ],
            [
             0.1,
             "#c51b7d"
            ],
            [
             0.2,
             "#de77ae"
            ],
            [
             0.3,
             "#f1b6da"
            ],
            [
             0.4,
             "#fde0ef"
            ],
            [
             0.5,
             "#f7f7f7"
            ],
            [
             0.6,
             "#e6f5d0"
            ],
            [
             0.7,
             "#b8e186"
            ],
            [
             0.8,
             "#7fbc41"
            ],
            [
             0.9,
             "#4d9221"
            ],
            [
             1,
             "#276419"
            ]
           ]
          },
          "xaxis": {
           "gridcolor": "white",
           "linecolor": "white",
           "ticks": "",
           "title": {
            "standoff": 15
           },
           "zerolinecolor": "white",
           "automargin": true,
           "zerolinewidth": 2
          },
          "yaxis": {
           "gridcolor": "white",
           "linecolor": "white",
           "ticks": "",
           "title": {
            "standoff": 15
           },
           "zerolinecolor": "white",
           "automargin": true,
           "zerolinewidth": 2
          },
          "scene": {
           "xaxis": {
            "backgroundcolor": "#E5ECF6",
            "gridcolor": "white",
            "linecolor": "white",
            "showbackground": true,
            "ticks": "",
            "zerolinecolor": "white",
            "gridwidth": 2
           },
           "yaxis": {
            "backgroundcolor": "#E5ECF6",
            "gridcolor": "white",
            "linecolor": "white",
            "showbackground": true,
            "ticks": "",
            "zerolinecolor": "white",
            "gridwidth": 2
           },
           "zaxis": {
            "backgroundcolor": "#E5ECF6",
            "gridcolor": "white",
            "linecolor": "white",
            "showbackground": true,
            "ticks": "",
            "zerolinecolor": "white",
            "gridwidth": 2
           }
          },
          "shapedefaults": {
           "line": {
            "color": "#2a3f5f"
           }
          },
          "annotationdefaults": {
           "arrowcolor": "#2a3f5f",
           "arrowhead": 0,
           "arrowwidth": 1
          },
          "geo": {
           "bgcolor": "white",
           "landcolor": "#E5ECF6",
           "subunitcolor": "white",
           "showland": true,
           "showlakes": true,
           "lakecolor": "white"
          },
          "title": {
           "x": 0.05
          },
          "mapbox": {
           "style": "light"
          }
         }
        },
        "xaxis": {
         "anchor": "y",
         "domain": [
          0,
          1
         ],
         "title": {
          "text": "Tebal paruh atas"
         }
        },
        "yaxis": {
         "anchor": "x",
         "domain": [
          0,
          1
         ],
         "title": {
          "text": "Massa tubuh"
         }
        },
        "coloraxis": {
         "colorbar": {
          "title": {
           "text": "color"
          }
         },
         "colorscale": [
          [
           0,
           "#0d0887"
          ],
          [
           0.1111111111111111,
           "#46039f"
          ],
          [
           0.2222222222222222,
           "#7201a8"
          ],
          [
           0.3333333333333333,
           "#9c179e"
          ],
          [
           0.4444444444444444,
           "#bd3786"
          ],
          [
           0.5555555555555556,
           "#d8576b"
          ],
          [
           0.6666666666666666,
           "#ed7953"
          ],
          [
           0.7777777777777778,
           "#fb9f3a"
          ],
          [
           0.8888888888888888,
           "#fdca26"
          ],
          [
           1,
           "#f0f921"
          ]
         ]
        },
        "legend": {
         "tracegroupgap": 0
        },
        "title": {
         "text": "Clustering tebal paruh atas & massa tubuh dengan K-Means"
        }
       },
       "config": {
        "plotlyServerURL": "https://plot.ly"
       }
      }
     },
     "metadata": {}
    }
   ],
   "metadata": {}
  },
  {
   "cell_type": "markdown",
   "source": [
    "10. Berikan interpretasi dari klaster yang dihasilkan [5]"
   ],
   "metadata": {
    "id": "oy5mzBgH0NBr"
   }
  },
  {
   "cell_type": "markdown",
   "source": [
    "## **Hierarchical Clustering** [30 poin]\n",
    "*Hierarchical clustering* adalah metode pengelompokkan data yang bertujuan untuk membuat klaster bertingkat. Metode ini termasuk ke dalam *unsupervised* ML layaknya metode K-Means. Namun, beda dengan metode K-Means, tidak diperlukan penentuan jumlah klaster diawal menjalankan metode ini. \n",
    "\n",
    "Secara umum, terdapat dua pendekatan dalam membentuk hierarki klaster, yakni *bottom-up* (agglomerative) dan *top-down* (divisive).\n"
   ],
   "metadata": {
    "id": "mqLOC8u-dY6f"
   }
  },
  {
   "cell_type": "markdown",
   "source": [
    "11. Terapkan *agglomerative clustering* tanpa mengatur jumlah klaster yang ingin dibentuk [8]\n"
   ],
   "metadata": {
    "id": "lRFL3HWQqnWt"
   }
  },
  {
   "cell_type": "code",
   "execution_count": 147,
   "source": [
    "model = AgglomerativeClustering(affinity='euclidean', linkage='ward')\n",
    "model.fit(x_scaled)\n",
    "labels = model.labels_"
   ],
   "outputs": [],
   "metadata": {}
  },
  {
   "cell_type": "markdown",
   "source": [
    "12. Tampilkan dendogram berdasarkan hasil *clustering* di atas. Dari hasil tersebut, apakah jumlah klaster optimal sama seperti hasil K-Means sebelumnya? Jelaskan hasilnya! (hint: tentukan ambang batas aglomerasi pada dendogram) [13]"
   ],
   "metadata": {
    "id": "Crnlmt4f2LJl"
   }
  },
  {
   "cell_type": "code",
   "execution_count": 148,
   "source": [
    "plt.figure(figsize=(15,8))\n",
    "plt.title(\"Dendogram hasil agglomerative clustering dari tebal paruh atas dan massa tubuh\")\n",
    "dendrogram = shc.dendrogram(shc.linkage(x_scaled, method='ward'))\n",
    "plt.axhline(y=30, c='grey', lw=1, linestyle='dashed')\n",
    "plt.axhline(y=12.3, c='grey', lw=1, linestyle='dashed')\n",
    "plt.axhline(y=9, c='grey', lw=1, linestyle='dashed')\n",
    "plt.axhline(y=5.5, c='grey', lw=1, linestyle='dashed')\n",
    "plt.axhline(y=4.3, c='grey', lw=1, linestyle='dashed')"
   ],
   "outputs": [
    {
     "output_type": "execute_result",
     "data": {
      "text/plain": [
       "<matplotlib.lines.Line2D at 0x7f84d54b05e0>"
      ]
     },
     "metadata": {},
     "execution_count": 148
    },
    {
     "output_type": "display_data",
     "data": {
      "image/png": "[encoded data removed]",
      "text/plain": [
       "<Figure size 1080x576 with 1 Axes>"
      ]
     },
     "metadata": {
      "needs_background": "light"
     }
    }
   ],
   "metadata": {}
  },
  {
   "cell_type": "markdown",
   "source": [
    ">Dari hasil dendogram yang didapat, terlihat bahwa jumlah *cluster* yang optimal adalah 2 karena jika dilihat jarak vertikal antar node, terlihat bahwa jarak yang paling besar adalah ketika cluster = 2"
   ],
   "metadata": {}
  },
  {
   "cell_type": "markdown",
   "source": [
    "13. Terapkan kembali *agglomerative clustering*, namun aturlah jumlah klaster sesuai jawaban kalian di atas [5]"
   ],
   "metadata": {
    "id": "JTrl6kf5CsiD"
   }
  },
  {
   "cell_type": "code",
   "execution_count": 149,
   "source": [
    "model2 = AgglomerativeClustering(n_clusters=2, affinity='euclidean', linkage='ward')\n",
    "model.fit(x_scaled)\n",
    "labels2 = model.labels_"
   ],
   "outputs": [],
   "metadata": {}
  },
  {
   "cell_type": "markdown",
   "source": [
    "14. Visualisasikan hasil *clustering assignment* [4]"
   ],
   "metadata": {
    "id": "JXZNgpYRrXx5"
   }
  },
  {
   "cell_type": "code",
   "execution_count": 150,
   "source": [
    "fig = px.scatter(x_scaled, x=x_scaled[:, 0], y=x_scaled[:, 1], color=labels2,\n",
    "    labels={\n",
    "                     \"x\": \"Tebal paruh atas\",\n",
    "                     \"y\": \"Massa tubuh\",\n",
    "                 },\n",
    "    title=\"Clustering tebal paruh atas & massa tubuh dengan Hierarchical Clustering\")\n",
    "\n",
    "fig.show()"
   ],
   "outputs": [
    {
     "output_type": "display_data",
     "data": {
      "application/vnd.plotly.v1+json": {
       "data": [
        {
         "hovertemplate": "Tebal paruh atas=%{x}<br>Massa tubuh=%{y}<br>color=%{marker.color}<extra></extra>",
         "legendgroup": "",
         "marker": {
          "color": [
           0,
           0,
           0,
           0,
           0,
           0,
           0,
           0,
           0,
           0,
           0,
           0,
           0,
           0,
           0,
           0,
           0,
           0,
           0,
           0,
           0,
           0,
           0,
           0,
           0,
           0,
           0,
           0,
           0,
           0,
           0,
           0,
           0,
           0,
           0,
           0,
           0,
           0,
           0,
           0,
           0,
           0,
           0,
           0,
           0,
           0,
           0,
           0,
           0,
           0,
           0,
           0,
           0,
           0,
           0,
           0,
           0,
           0,
           0,
           0,
           0,
           0,
           0,
           0,
           0,
           0,
           0,
           0,
           0,
           0,
           0,
           0,
           0,
           0,
           0,
           0,
           0,
           0,
           0,
           0,
           0,
           0,
           0,
           0,
           0,
           0,
           0,
           0,
           0,
           0,
           0,
           0,
           0,
           0,
           0,
           0,
           0,
           0,
           0,
           0,
           0,
           0,
           0,
           0,
           0,
           0,
           0,
           0,
           0,
           0,
           0,
           0,
           0,
           0,
           0,
           0,
           0,
           0,
           0,
           0,
           0,
           0,
           0,
           0,
           0,
           0,
           0,
           0,
           0,
           0,
           0,
           0,
           0,
           0,
           0,
           0,
           0,
           0,
           0,
           0,
           0,
           0,
           0,
           0,
           0,
           0,
           0,
           0,
           0,
           0,
           0,
           0,
           0,
           0,
           0,
           0,
           0,
           0,
           0,
           0,
           0,
           0,
           0,
           0,
           0,
           0,
           0,
           0,
           0,
           0,
           0,
           0,
           0,
           0,
           0,
           0,
           0,
           0,
           0,
           0,
           0,
           0,
           0,
           0,
           0,
           0,
           0,
           0,
           0,
           0,
           0,
           0,
           0,
           0,
           0,
           0,
           0,
           0,
           0,
           0,
           0,
           0,
           0,
           0,
           0,
           0,
           0,
           0,
           0,
           0,
           0,
           0,
           0,
           0,
           1,
           1,
           1,
           1,
           1,
           1,
           1,
           1,
           1,
           1,
           1,
           1,
           1,
           1,
           1,
           1,
           1,
           1,
           1,
           1,
           1,
           1,
           1,
           1,
           1,
           1,
           1,
           1,
           1,
           1,
           1,
           1,
           1,
           1,
           1,
           1,
           1,
           1,
           1,
           1,
           1,
           1,
           1,
           1,
           1,
           1,
           1,
           1,
           1,
           1,
           1,
           1,
           1,
           1,
           1,
           1,
           1,
           1,
           1,
           1,
           1,
           1,
           1,
           1,
           1,
           1,
           1,
           1,
           1,
           1,
           1,
           1,
           1,
           1,
           1,
           1,
           1,
           1,
           1,
           1,
           1,
           1,
           1,
           1,
           1,
           1,
           1,
           1,
           1,
           1,
           1,
           1,
           1,
           1,
           1,
           1,
           1,
           1,
           1,
           1,
           1,
           1,
           1,
           1,
           1,
           1,
           1,
           1,
           1,
           1,
           1,
           1,
           1,
           1,
           1,
           1,
           1,
           1,
           1
          ],
          "coloraxis": "coloraxis",
          "symbol": "circle"
         },
         "mode": "markers",
         "name": "",
         "orientation": "v",
         "showlegend": false,
         "x": [
          0.7807321043966328,
          0.11958396669455443,
          0.4247292610185911,
          1.0858773987206694,
          1.7470255364227476,
          0.3230141629105795,
          1.2384500458826877,
          0.22129906480256786,
          2.0521708307467827,
          2.0013132816927777,
          0.3230141629105795,
          0.9333047515586511,
          1.7978830854767527,
          0.6281594572346144,
          2.204743477908801,
          0.5773019081806094,
          0.7807321043966328,
          1.0350198496666627,
          0.47558681007259784,
          0.017868868586542803,
          0.8824472025046444,
          0.7298745553426278,
          0.3738717119645844,
          0.7298745553426278,
          0.8824472025046444,
          -0.23641887668348716,
          0.47558681007259784,
          0.3230141629105795,
          0.8824472025046444,
          -0.08384622952146882,
          2.0013132816927777,
          1.441880242098711,
          0.679017006288621,
          1.0858773987206694,
          0.9841623006126577,
          0.4247292610185911,
          0.6281594572346144,
          0.679017006288621,
          1.2893075949366926,
          -0.13470377857547555,
          0.8315896534506394,
          0.9333047515586511,
          0.3738717119645844,
          2.0521708307467827,
          0.27215661385657275,
          0.8824472025046444,
          0.3738717119645844,
          1.187592496828681,
          0.47558681007259784,
          0.7298745553426278,
          0.17044151574856115,
          0.8315896534506394,
          -0.28727642573749207,
          0.9841623006126577,
          -0.13470377857547555,
          2.0013132816927777,
          -0.08384622952146882,
          0.5264443591266027,
          -0.03298868046746211,
          0.4247292610185911,
          -0.49070662195351716,
          0.9841623006126577,
          -0.28727642573749207,
          1.1367349477746742,
          0.9333047515586511,
          0.6281594572346144,
          0.017868868586542803,
          0.8824472025046444,
          0.17044151574856115,
          0.679017006288621,
          -0.18556132762948047,
          1.1367349477746742,
          -0.5415641710075221,
          0.9841623006126577,
          0.017868868586542803,
          0.22129906480256786,
          0.8315896534506394,
          1.1367349477746742,
          0.3230141629105795,
          1.5944528892607293,
          1.187592496828681,
          0.7298745553426278,
          1.0350198496666627,
          0.8315896534506394,
          0.4247292610185911,
          0.47558681007259784,
          -0.03298868046746211,
          0.47558681007259784,
          0.06872641764054951,
          0.8824472025046444,
          0.7298745553426278,
          0.679017006288621,
          -0.5415641710075221,
          0.679017006288621,
          0.3738717119645844,
          1.441880242098711,
          -0.5924217200615288,
          1.441880242098711,
          0.7298745553426278,
          0.8824472025046444,
          0.017868868586542803,
          1.441880242098711,
          -0.08384622952146882,
          0.9333047515586511,
          -0.3381339747914988,
          1.5944528892607293,
          0.27215661385657275,
          1.187592496828681,
          1.7978830854767527,
          0.5773019081806094,
          -0.08384622952146882,
          1.696167987368741,
          -0.08384622952146882,
          0.7298745553426278,
          0.017868868586542803,
          1.3401651439906994,
          -0.08384622952146882,
          0.679017006288621,
          -0.6432792691155346,
          0.9333047515586511,
          0.22129906480256786,
          0.5773019081806094,
          -0.03298868046746211,
          0.4247292610185911,
          0.3738717119645844,
          1.0350198496666627,
          0.679017006288621,
          0.679017006288621,
          0.22129906480256786,
          0.17044151574856115,
          0.17044151574856115,
          1.4927377911527178,
          -0.3381339747914988,
          0.3738717119645844,
          -0.03298868046746211,
          0.017868868586542803,
          -0.8467094653315588,
          -0.08384622952146882,
          -0.18556132762948047,
          0.7807321043966328,
          0.7298745553426278,
          0.6281594572346144,
          0.3230141629105795,
          0.47558681007259784,
          -0.03298868046746211,
          0.679017006288621,
          0.3738717119645844,
          1.187592496828681,
          1.0350198496666627,
          0.7807321043966328,
          1.3401651439906994,
          0.3230141629105795,
          0.5264443591266027,
          0.5264443591266027,
          0.8824472025046444,
          1.3910226930447043,
          0.3230141629105795,
          1.5944528892607293,
          0.06872641764054951,
          0.47558681007259784,
          -0.03298868046746211,
          1.2384500458826877,
          1.441880242098711,
          0.3230141629105795,
          0.7298745553426278,
          0.5264443591266027,
          0.06872641764054951,
          0.17044151574856115,
          -0.28727642573749207,
          1.1367349477746742,
          0.3738717119645844,
          0.9333047515586511,
          0.6281594572346144,
          0.9333047515586511,
          0.3230141629105795,
          1.441880242098711,
          -0.28727642573749207,
          1.8487406345307593,
          -0.23641887668348716,
          0.8315896534506394,
          0.7298745553426278,
          -0.18556132762948047,
          0.5773019081806094,
          1.7978830854767527,
          -0.28727642573749207,
          1.3910226930447043,
          1.187592496828681,
          0.17044151574856115,
          0.9841623006126577,
          -0.08384622952146882,
          0.3738717119645844,
          0.679017006288621,
          0.3738717119645844,
          1.2384500458826877,
          0.7807321043966328,
          0.06872641764054951,
          -0.3889915238455055,
          0.9333047515586511,
          0.06872641764054951,
          1.2893075949366926,
          0.06872641764054951,
          0.8315896534506394,
          -0.28727642573749207,
          1.3910226930447043,
          0.8315896534506394,
          1.1367349477746742,
          1.187592496828681,
          -0.3381339747914988,
          -0.08384622952146882,
          1.3401651439906994,
          0.47558681007259784,
          0.5264443591266027,
          0.9333047515586511,
          0.7807321043966328,
          -2.016433093573697,
          -0.4398490728995104,
          -1.5587151520876428,
          -0.9992821124935771,
          -1.3552849558716187,
          -1.8638604464116786,
          -1.304427406817613,
          -0.9484245634395704,
          -1.9147179954656846,
          -0.8975670143855645,
          -1.762145348303667,
          -0.5415641710075221,
          -1.762145348303667,
          -1.304427406817613,
          -1.304427406817613,
          -0.7449943672235471,
          -1.8638604464116786,
          -0.9992821124935771,
          -1.3552849558716187,
          -1.0501396615475829,
          -1.4570000539796304,
          -1.3552849558716187,
          -1.3552849558716187,
          -0.6941368181695404,
          -2.067290642627703,
          -1.0501396615475829,
          -1.1009972106015886,
          -1.4570000539796304,
          -0.9484245634395704,
          -0.9484245634395704,
          -1.507857603033637,
          -1.3552849558716187,
          -0.08384622952146882,
          -1.2027123087096003,
          -0.4398490728995104,
          -1.762145348303667,
          0.06872641764054951,
          -1.8130028973576728,
          -0.7449943672235471,
          -1.762145348303667,
          -0.5924217200615288,
          -1.762145348303667,
          -1.1009972106015886,
          -0.6432792691155346,
          -1.6604302501956545,
          -1.6604302501956545,
          -0.6432792691155346,
          -1.9655755445196903,
          -0.6941368181695404,
          -1.507857603033637,
          -1.5587151520876428,
          -1.4061425049256244,
          -1.1009972106015886,
          -1.4061425049256244,
          -0.8975670143855645,
          -1.6604302501956545,
          -1.1009972106015886,
          -1.3552849558716187,
          -0.9484245634395704,
          -1.7112877992496602,
          -1.1518547596555946,
          -1.6604302501956545,
          -0.7449943672235471,
          -1.507857603033637,
          -0.18556132762948047,
          -0.49070662195351716,
          -1.507857603033637,
          -1.1009972106015886,
          -1.1009972106015886,
          -0.7958519162775529,
          -0.7958519162775529,
          -1.2027123087096003,
          -1.1009972106015886,
          -0.5924217200615288,
          -1.507857603033637,
          -0.4398490728995104,
          -1.7112877992496602,
          -0.3889915238455055,
          -1.3552849558716187,
          -0.7958519162775529,
          -1.304427406817613,
          -0.6432792691155346,
          -1.7112877992496602,
          0.06872641764054951,
          -1.4061425049256244,
          -1.507857603033637,
          -1.6095727011416487,
          -0.08384622952146882,
          -1.1009972106015886,
          -0.03298868046746211,
          -1.3552849558716187,
          -0.5415641710075221,
          -1.253569857763607,
          -0.7449943672235471,
          -0.6941368181695404,
          -1.304427406817613,
          -1.4061425049256244,
          -0.3381339747914988,
          -1.1009972106015886,
          -0.08384622952146882,
          -0.8467094653315588,
          -1.1009972106015886,
          -0.5415641710075221,
          -1.253569857763607,
          -0.6941368181695404,
          -1.6095727011416487,
          -1.0501396615475829,
          -0.9992821124935771,
          -0.6432792691155346,
          -0.9992821124935771,
          -0.4398490728995104,
          -1.5587151520876428,
          -0.5924217200615288,
          -0.49070662195351716,
          -1.762145348303667,
          -1.4570000539796304,
          -0.7449943672235471,
          -1.2027123087096003,
          -0.5415641710075221
         ],
         "xaxis": "x",
         "y": [
          -0.5684747832140795,
          -0.5062861817652331,
          -1.1903607977025437,
          -0.941606391907158,
          -0.6928519861117723,
          -0.7239462868361956,
          0.5820143435895789,
          -1.25254939915139,
          -0.5062861817652331,
          0.23997703562092373,
          -0.6306633846629259,
          -0.941606391907158,
          0.36435423851861654,
          -1.097077895529274,
          -0.008777370174461903,
          -1.0037949933560044,
          -0.7550405875606188,
          -0.5062861817652331,
          -0.3197203774186939,
          -0.5062861817652331,
          -0.5062861817652331,
          -0.8172291890094652,
          -1.25254939915139,
          -1.3147380006002365,
          -0.3197203774186939,
          -1.1903607977025437,
          -0.3819089788675403,
          -1.1281721962536972,
          -0.3819089788675403,
          -1.097077895529274,
          -0.07096597162330831,
          -0.3197203774186939,
          -0.8172291890094652,
          -1.1281721962536972,
          0.5509200428651557,
          -1.3147380006002365,
          -0.3819089788675403,
          -1.376926602049083,
          0.23997703562092373,
          -1.5013038049467757,
          0.48873144141630936,
          -0.9727006926315812,
          -0.941606391907158,
          -0.07096597162330831,
          -0.8794177904583116,
          0.1155998327232309,
          -0.941606391907158,
          -0.1953431745210011,
          -1.6256810078444686,
          -0.6306633846629259,
          -0.8172291890094652,
          -0.5062861817652331,
          -1.687869609293315,
          -0.5684747832140795,
          -1.3147380006002365,
          0.23997703562092373,
          -0.7550405875606188,
          -0.1953431745210011,
          -1.687869609293315,
          -0.3197203774186939,
          -1.0659835948048508,
          -0.13315457307215472,
          -1.4391152034979293,
          0.3021656370697701,
          -0.7550405875606188,
          -0.3819089788675403,
          -0.8172291890094652,
          -0.07096597162330831,
          -0.6306633846629259,
          0.053411231274384505,
          -0.6306633846629259,
          -0.3819089788675403,
          -0.8172291890094652,
          -0.25753177596984755,
          -1.25254939915139,
          0.6131086443140021,
          -0.5062861817652331,
          -0.008777370174461903,
          -1.0659835948048508,
          -0.8172291890094652,
          -0.5062861817652331,
          -0.8794177904583116,
          -0.3197203774186939,
          -0.7550405875606188,
          -0.8172291890094652,
          0.1155998327232309,
          -1.0037949933560044,
          0.3021656370697701,
          -1.1281721962536972,
          0.1155998327232309,
          -0.6306633846629259,
          0.17778843417207732,
          -1.6256810078444686,
          -0.13315457307215472,
          -0.5995690839385027,
          0.6442029450384253,
          -1.408020902773506,
          0.053411231274384505,
          -1.5945867071200452,
          -0.8172291890094652,
          -0.5684747832140795,
          -0.3819089788675403,
          -1.2836436998758132,
          0.7063915464872718,
          -0.47519188104080995,
          0.48873144141630936,
          -1.25254939915139,
          0.08450553199880771,
          -0.3819089788675403,
          -0.16424887379657793,
          -1.6256810078444686,
          -0.5373804824896563,
          -1.0659835948048508,
          -1.097077895529274,
          -1.3147380006002365,
          -0.8794177904583116,
          -0.941606391907158,
          -0.41300327959196353,
          -1.4391152034979293,
          -0.25753177596984755,
          -1.1592664969781203,
          0.1155998327232309,
          -1.4391152034979293,
          -0.25753177596984755,
          -1.097077895529274,
          -0.8794177904583116,
          -0.8794177904583116,
          0.33325993779419333,
          -0.9727006926315812,
          -0.3819089788675403,
          -1.2836436998758132,
          -0.2886260766942707,
          -1.0037949933560044,
          0.053411231274384505,
          -1.0037949933560044,
          -0.9105120911827348,
          -1.4391152034979293,
          -0.5995690839385027,
          -1.5013038049467757,
          -0.6928519861117723,
          0.053411231274384505,
          -0.9105120911827348,
          -0.941606391907158,
          -0.5684747832140795,
          -0.6306633846629259,
          -0.25753177596984755,
          -0.8794177904583116,
          -0.3819089788675403,
          -0.6928519861117723,
          -0.8483234897338884,
          -0.5995690839385027,
          -0.3197203774186939,
          -1.1903607977025437,
          -0.5684747832140795,
          -0.07096597162330831,
          -0.6306633846629259,
          -0.5062861817652331,
          -0.5373804824896563,
          -0.6306633846629259,
          -0.1953431745210011,
          -0.786134888285042,
          -0.1953431745210011,
          -1.1281721962536972,
          -0.6306633846629259,
          -0.941606391907158,
          0.23997703562092373,
          -0.7550405875606188,
          -1.0037949933560044,
          -1.6256810078444686,
          -0.5062861817652331,
          -1.1281721962536972,
          -0.07096597162330831,
          -1.0037949933560044,
          -0.5062861817652331,
          -0.6306633846629259,
          0.42654283996746295,
          -1.25254939915139,
          0.1155998327232309,
          -1.0659835948048508,
          -0.13315457307215472,
          -0.7550405875606188,
          -0.3819089788675403,
          -0.44409758031638674,
          0.737485847211695,
          -1.874435413639854,
          0.36435423851861654,
          -0.3197203774186939,
          -0.6928519861117723,
          -0.8172291890094652,
          -0.8794177904583116,
          -0.6617576853873491,
          0.3021656370697701,
          -1.0037949933560044,
          0.1155998327232309,
          -1.1903607977025437,
          -0.6617576853873491,
          -1.097077895529274,
          -0.3197203774186939,
          -0.7550405875606188,
          -0.1953431745210011,
          -1.0659835948048508,
          -0.941606391907158,
          -1.1903607977025437,
          -0.1953431745210011,
          -0.5062861817652331,
          -0.8483234897338884,
          -0.3197203774186939,
          -0.6928519861117723,
          -0.6928519861117723,
          -0.25753177596984755,
          -1.0037949933560044,
          -0.5373804824896563,
          -0.13315457307215472,
          -0.5373804824896563,
          0.36435423851861654,
          1.8568806732909302,
          0.3021656370697701,
          1.8568806732909302,
          1.483749064597852,
          0.42654283996746295,
          0.737485847211695,
          1.2349946588024663,
          0.23997703562092373,
          1.1728060573536199,
          0.5509200428651557,
          1.670314868944391,
          0.5509200428651557,
          2.0434464776374694,
          -0.008777370174461903,
          2.0434464776374694,
          -0.07096597162330831,
          2.603143890677087,
          0.737485847211695,
          1.4215604631490055,
          1.8568806732909302,
          0.9862402530070806,
          0.23997703562092373,
          1.048428854455927,
          0.9862402530070806,
          1.1106174559047735,
          1.7946920718420838,
          0.48873144141630936,
          1.670314868944391,
          1.2971832602513127,
          0.6131086443140021,
          1.048428854455927,
          2.292200883432855,
          1.1728060573536199,
          1.483749064597852,
          0.9240516515582342,
          1.2971832602513127,
          0.17778843417207732,
          1.4215604631490055,
          -0.3197203774186939,
          1.8568806732909302,
          0.1155998327232309,
          0.6752972457628486,
          1.670314868944391,
          0.8618630501093878,
          -0.008777370174461903,
          1.483749064597852,
          1.1106174559047735,
          1.3593718617001591,
          0.7996744486605414,
          1.3593718617001591,
          0.23997703562092373,
          0.9862402530070806,
          0.8618630501093878,
          1.048428854455927,
          0.1155998327232309,
          0.9862402530070806,
          0.3021656370697701,
          1.670314868944391,
          -0.008777370174461903,
          1.3593718617001591,
          0.23997703562092373,
          1.7946920718420838,
          0.6131086443140021,
          1.8568806732909302,
          1.981257876188623,
          0.6131086443140021,
          1.670314868944391,
          0.6752972457628486,
          0.9862402530070806,
          1.1106174559047735,
          1.2349946588024663,
          0.6131086443140021,
          1.981257876188623,
          0.48873144141630936,
          2.230012281984009,
          0.6752972457628486,
          2.1678236805351623,
          0.5198257421407325,
          1.5459376660466984,
          0.6442029450384253,
          1.4215604631490055,
          0.6752972457628486,
          1.7325034703932374,
          0.48873144141630936,
          1.3593718617001591,
          0.8307687493849646,
          1.670314868944391,
          0.9240516515582342,
          1.483749064597852,
          0.6752972457628486,
          1.7946920718420838,
          0.7996744486605414,
          1.2349946588024663,
          0.892957350833811,
          0.8307687493849646,
          0.5198257421407325,
          1.2971832602513127,
          0.7996744486605414,
          1.7325034703932374,
          0.9551459522826574,
          1.6081262674955448,
          1.6081262674955448,
          0.6131086443140021,
          1.6081262674955448,
          0.45763714069188616,
          1.6081262674955448,
          0.9862402530070806,
          2.1678236805351623,
          0.5509200428651557,
          1.6081262674955448,
          0.20888273489650053,
          2.0434464776374694,
          2.230012281984009,
          0.892957350833811,
          0.7996744486605414,
          1.9190692747397766,
          1.2349946588024663,
          1.483749064597852
         ],
         "yaxis": "y",
         "type": "scatter"
        }
       ],
       "layout": {
        "template": {
         "data": {
          "histogram2dcontour": [
           {
            "type": "histogram2dcontour",
            "colorbar": {
             "outlinewidth": 0,
             "ticks": ""
            },
            "colorscale": [
             [
              0,
              "#0d0887"
             ],
             [
              0.1111111111111111,
              "#46039f"
             ],
             [
              0.2222222222222222,
              "#7201a8"
             ],
             [
              0.3333333333333333,
              "#9c179e"
             ],
             [
              0.4444444444444444,
              "#bd3786"
             ],
             [
              0.5555555555555556,
              "#d8576b"
             ],
             [
              0.6666666666666666,
              "#ed7953"
             ],
             [
              0.7777777777777778,
              "#fb9f3a"
             ],
             [
              0.8888888888888888,
              "#fdca26"
             ],
             [
              1,
              "#f0f921"
             ]
            ]
           }
          ],
          "choropleth": [
           {
            "type": "choropleth",
            "colorbar": {
             "outlinewidth": 0,
             "ticks": ""
            }
           }
          ],
          "histogram2d": [
           {
            "type": "histogram2d",
            "colorbar": {
             "outlinewidth": 0,
             "ticks": ""
            },
            "colorscale": [
             [
              0,
              "#0d0887"
             ],
             [
              0.1111111111111111,
              "#46039f"
             ],
             [
              0.2222222222222222,
              "#7201a8"
             ],
             [
              0.3333333333333333,
              "#9c179e"
             ],
             [
              0.4444444444444444,
              "#bd3786"
             ],
             [
              0.5555555555555556,
              "#d8576b"
             ],
             [
              0.6666666666666666,
              "#ed7953"
             ],
             [
              0.7777777777777778,
              "#fb9f3a"
             ],
             [
              0.8888888888888888,
              "#fdca26"
             ],
             [
              1,
              "#f0f921"
             ]
            ]
           }
          ],
          "heatmap": [
           {
            "type": "heatmap",
            "colorbar": {
             "outlinewidth": 0,
             "ticks": ""
            },
            "colorscale": [
             [
              0,
              "#0d0887"
             ],
             [
              0.1111111111111111,
              "#46039f"
             ],
             [
              0.2222222222222222,
              "#7201a8"
             ],
             [
              0.3333333333333333,
              "#9c179e"
             ],
             [
              0.4444444444444444,
              "#bd3786"
             ],
             [
              0.5555555555555556,
              "#d8576b"
             ],
             [
              0.6666666666666666,
              "#ed7953"
             ],
             [
              0.7777777777777778,
              "#fb9f3a"
             ],
             [
              0.8888888888888888,
              "#fdca26"
             ],
             [
              1,
              "#f0f921"
             ]
            ]
           }
          ],
          "heatmapgl": [
           {
            "type": "heatmapgl",
            "colorbar": {
             "outlinewidth": 0,
             "ticks": ""
            },
            "colorscale": [
             [
              0,
              "#0d0887"
             ],
             [
              0.1111111111111111,
              "#46039f"
             ],
             [
              0.2222222222222222,
              "#7201a8"
             ],
             [
              0.3333333333333333,
              "#9c179e"
             ],
             [
              0.4444444444444444,
              "#bd3786"
             ],
             [
              0.5555555555555556,
              "#d8576b"
             ],
             [
              0.6666666666666666,
              "#ed7953"
             ],
             [
              0.7777777777777778,
              "#fb9f3a"
             ],
             [
              0.8888888888888888,
              "#fdca26"
             ],
             [
              1,
              "#f0f921"
             ]
            ]
           }
          ],
          "contourcarpet": [
           {
            "type": "contourcarpet",
            "colorbar": {
             "outlinewidth": 0,
             "ticks": ""
            }
           }
          ],
          "contour": [
           {
            "type": "contour",
            "colorbar": {
             "outlinewidth": 0,
             "ticks": ""
            },
            "colorscale": [
             [
              0,
              "#0d0887"
             ],
             [
              0.1111111111111111,
              "#46039f"
             ],
             [
              0.2222222222222222,
              "#7201a8"
             ],
             [
              0.3333333333333333,
              "#9c179e"
             ],
             [
              0.4444444444444444,
              "#bd3786"
             ],
             [
              0.5555555555555556,
              "#d8576b"
             ],
             [
              0.6666666666666666,
              "#ed7953"
             ],
             [
              0.7777777777777778,
              "#fb9f3a"
             ],
             [
              0.8888888888888888,
              "#fdca26"
             ],
             [
              1,
              "#f0f921"
             ]
            ]
           }
          ],
          "surface": [
           {
            "type": "surface",
            "colorbar": {
             "outlinewidth": 0,
             "ticks": ""
            },
            "colorscale": [
             [
              0,
              "#0d0887"
             ],
             [
              0.1111111111111111,
              "#46039f"
             ],
             [
              0.2222222222222222,
              "#7201a8"
             ],
             [
              0.3333333333333333,
              "#9c179e"
             ],
             [
              0.4444444444444444,
              "#bd3786"
             ],
             [
              0.5555555555555556,
              "#d8576b"
             ],
             [
              0.6666666666666666,
              "#ed7953"
             ],
             [
              0.7777777777777778,
              "#fb9f3a"
             ],
             [
              0.8888888888888888,
              "#fdca26"
             ],
             [
              1,
              "#f0f921"
             ]
            ]
           }
          ],
          "mesh3d": [
           {
            "type": "mesh3d",
            "colorbar": {
             "outlinewidth": 0,
             "ticks": ""
            }
           }
          ],
          "scatter": [
           {
            "fillpattern": {
             "fillmode": "overlay",
             "size": 10,
             "solidity": 0.2
            },
            "type": "scatter"
           }
          ],
          "parcoords": [
           {
            "type": "parcoords",
            "line": {
             "colorbar": {
              "outlinewidth": 0,
              "ticks": ""
             }
            }
           }
          ],
          "scatterpolargl": [
           {
            "type": "scatterpolargl",
            "marker": {
             "colorbar": {
              "outlinewidth": 0,
              "ticks": ""
             }
            }
           }
          ],
          "bar": [
           {
            "error_x": {
             "color": "#2a3f5f"
            },
            "error_y": {
             "color": "#2a3f5f"
            },
            "marker": {
             "line": {
              "color": "#E5ECF6",
              "width": 0.5
             },
             "pattern": {
              "fillmode": "overlay",
              "size": 10,
              "solidity": 0.2
             }
            },
            "type": "bar"
           }
          ],
          "scattergeo": [
           {
            "type": "scattergeo",
            "marker": {
             "colorbar": {
              "outlinewidth": 0,
              "ticks": ""
             }
            }
           }
          ],
          "scatterpolar": [
           {
            "type": "scatterpolar",
            "marker": {
             "colorbar": {
              "outlinewidth": 0,
              "ticks": ""
             }
            }
           }
          ],
          "histogram": [
           {
            "marker": {
             "pattern": {
              "fillmode": "overlay",
              "size": 10,
              "solidity": 0.2
             }
            },
            "type": "histogram"
           }
          ],
          "scattergl": [
           {
            "type": "scattergl",
            "marker": {
             "colorbar": {
              "outlinewidth": 0,
              "ticks": ""
             }
            }
           }
          ],
          "scatter3d": [
           {
            "type": "scatter3d",
            "line": {
             "colorbar": {
              "outlinewidth": 0,
              "ticks": ""
             }
            },
            "marker": {
             "colorbar": {
              "outlinewidth": 0,
              "ticks": ""
             }
            }
           }
          ],
          "scattermapbox": [
           {
            "type": "scattermapbox",
            "marker": {
             "colorbar": {
              "outlinewidth": 0,
              "ticks": ""
             }
            }
           }
          ],
          "scatterternary": [
           {
            "type": "scatterternary",
            "marker": {
             "colorbar": {
              "outlinewidth": 0,
              "ticks": ""
             }
            }
           }
          ],
          "scattercarpet": [
           {
            "type": "scattercarpet",
            "marker": {
             "colorbar": {
              "outlinewidth": 0,
              "ticks": ""
             }
            }
           }
          ],
          "carpet": [
           {
            "aaxis": {
             "endlinecolor": "#2a3f5f",
             "gridcolor": "white",
             "linecolor": "white",
             "minorgridcolor": "white",
             "startlinecolor": "#2a3f5f"
            },
            "baxis": {
             "endlinecolor": "#2a3f5f",
             "gridcolor": "white",
             "linecolor": "white",
             "minorgridcolor": "white",
             "startlinecolor": "#2a3f5f"
            },
            "type": "carpet"
           }
          ],
          "table": [
           {
            "cells": {
             "fill": {
              "color": "#EBF0F8"
             },
             "line": {
              "color": "white"
             }
            },
            "header": {
             "fill": {
              "color": "#C8D4E3"
             },
             "line": {
              "color": "white"
             }
            },
            "type": "table"
           }
          ],
          "barpolar": [
           {
            "marker": {
             "line": {
              "color": "#E5ECF6",
              "width": 0.5
             },
             "pattern": {
              "fillmode": "overlay",
              "size": 10,
              "solidity": 0.2
             }
            },
            "type": "barpolar"
           }
          ],
          "pie": [
           {
            "automargin": true,
            "type": "pie"
           }
          ]
         },
         "layout": {
          "autotypenumbers": "strict",
          "colorway": [
           "#636efa",
           "#EF553B",
           "#00cc96",
           "#ab63fa",
           "#FFA15A",
           "#19d3f3",
           "#FF6692",
           "#B6E880",
           "#FF97FF",
           "#FECB52"
          ],
          "font": {
           "color": "#2a3f5f"
          },
          "hovermode": "closest",
          "hoverlabel": {
           "align": "left"
          },
          "paper_bgcolor": "white",
          "plot_bgcolor": "#E5ECF6",
          "polar": {
           "bgcolor": "#E5ECF6",
           "angularaxis": {
            "gridcolor": "white",
            "linecolor": "white",
            "ticks": ""
           },
           "radialaxis": {
            "gridcolor": "white",
            "linecolor": "white",
            "ticks": ""
           }
          },
          "ternary": {
           "bgcolor": "#E5ECF6",
           "aaxis": {
            "gridcolor": "white",
            "linecolor": "white",
            "ticks": ""
           },
           "baxis": {
            "gridcolor": "white",
            "linecolor": "white",
            "ticks": ""
           },
           "caxis": {
            "gridcolor": "white",
            "linecolor": "white",
            "ticks": ""
           }
          },
          "coloraxis": {
           "colorbar": {
            "outlinewidth": 0,
            "ticks": ""
           }
          },
          "colorscale": {
           "sequential": [
            [
             0,
             "#0d0887"
            ],
            [
             0.1111111111111111,
             "#46039f"
            ],
            [
             0.2222222222222222,
             "#7201a8"
            ],
            [
             0.3333333333333333,
             "#9c179e"
            ],
            [
             0.4444444444444444,
             "#bd3786"
            ],
            [
             0.5555555555555556,
             "#d8576b"
            ],
            [
             0.6666666666666666,
             "#ed7953"
            ],
            [
             0.7777777777777778,
             "#fb9f3a"
            ],
            [
             0.8888888888888888,
             "#fdca26"
            ],
            [
             1,
             "#f0f921"
            ]
           ],
           "sequentialminus": [
            [
             0,
             "#0d0887"
            ],
            [
             0.1111111111111111,
             "#46039f"
            ],
            [
             0.2222222222222222,
             "#7201a8"
            ],
            [
             0.3333333333333333,
             "#9c179e"
            ],
            [
             0.4444444444444444,
             "#bd3786"
            ],
            [
             0.5555555555555556,
             "#d8576b"
            ],
            [
             0.6666666666666666,
             "#ed7953"
            ],
            [
             0.7777777777777778,
             "#fb9f3a"
            ],
            [
             0.8888888888888888,
             "#fdca26"
            ],
            [
             1,
             "#f0f921"
            ]
           ],
           "diverging": [
            [
             0,
             "#8e0152"
            ],
            [
             0.1,
             "#c51b7d"
            ],
            [
             0.2,
             "#de77ae"
            ],
            [
             0.3,
             "#f1b6da"
            ],
            [
             0.4,
             "#fde0ef"
            ],
            [
             0.5,
             "#f7f7f7"
            ],
            [
             0.6,
             "#e6f5d0"
            ],
            [
             0.7,
             "#b8e186"
            ],
            [
             0.8,
             "#7fbc41"
            ],
            [
             0.9,
             "#4d9221"
            ],
            [
             1,
             "#276419"
            ]
           ]
          },
          "xaxis": {
           "gridcolor": "white",
           "linecolor": "white",
           "ticks": "",
           "title": {
            "standoff": 15
           },
           "zerolinecolor": "white",
           "automargin": true,
           "zerolinewidth": 2
          },
          "yaxis": {
           "gridcolor": "white",
           "linecolor": "white",
           "ticks": "",
           "title": {
            "standoff": 15
           },
           "zerolinecolor": "white",
           "automargin": true,
           "zerolinewidth": 2
          },
          "scene": {
           "xaxis": {
            "backgroundcolor": "#E5ECF6",
            "gridcolor": "white",
            "linecolor": "white",
            "showbackground": true,
            "ticks": "",
            "zerolinecolor": "white",
            "gridwidth": 2
           },
           "yaxis": {
            "backgroundcolor": "#E5ECF6",
            "gridcolor": "white",
            "linecolor": "white",
            "showbackground": true,
            "ticks": "",
            "zerolinecolor": "white",
            "gridwidth": 2
           },
           "zaxis": {
            "backgroundcolor": "#E5ECF6",
            "gridcolor": "white",
            "linecolor": "white",
            "showbackground": true,
            "ticks": "",
            "zerolinecolor": "white",
            "gridwidth": 2
           }
          },
          "shapedefaults": {
           "line": {
            "color": "#2a3f5f"
           }
          },
          "annotationdefaults": {
           "arrowcolor": "#2a3f5f",
           "arrowhead": 0,
           "arrowwidth": 1
          },
          "geo": {
           "bgcolor": "white",
           "landcolor": "#E5ECF6",
           "subunitcolor": "white",
           "showland": true,
           "showlakes": true,
           "lakecolor": "white"
          },
          "title": {
           "x": 0.05
          },
          "mapbox": {
           "style": "light"
          }
         }
        },
        "xaxis": {
         "anchor": "y",
         "domain": [
          0,
          1
         ],
         "title": {
          "text": "Tebal paruh atas"
         }
        },
        "yaxis": {
         "anchor": "x",
         "domain": [
          0,
          1
         ],
         "title": {
          "text": "Massa tubuh"
         }
        },
        "coloraxis": {
         "colorbar": {
          "title": {
           "text": "color"
          }
         },
         "colorscale": [
          [
           0,
           "#0d0887"
          ],
          [
           0.1111111111111111,
           "#46039f"
          ],
          [
           0.2222222222222222,
           "#7201a8"
          ],
          [
           0.3333333333333333,
           "#9c179e"
          ],
          [
           0.4444444444444444,
           "#bd3786"
          ],
          [
           0.5555555555555556,
           "#d8576b"
          ],
          [
           0.6666666666666666,
           "#ed7953"
          ],
          [
           0.7777777777777778,
           "#fb9f3a"
          ],
          [
           0.8888888888888888,
           "#fdca26"
          ],
          [
           1,
           "#f0f921"
          ]
         ]
        },
        "legend": {
         "tracegroupgap": 0
        },
        "title": {
         "text": "Clustering tebal paruh atas & massa tubuh dengan Hierarchical Clustering"
        }
       },
       "config": {
        "plotlyServerURL": "https://plot.ly"
       }
      }
     },
     "metadata": {}
    }
   ],
   "metadata": {}
  },
  {
   "cell_type": "markdown",
   "source": [
    "## **Pertanyaan Teoretis** [30 poin]\n",
    "\n",
    "**Pada bagian tugas ini, Anda diminta untuk menjawab pertanyaan yang telah diberikan di bawah ini.**"
   ],
   "metadata": {
    "id": "tFgVU3kJpvrQ"
   }
  },
  {
   "cell_type": "markdown",
   "source": [
    "15. Jika suatu dataset mengandung campuran *categorical* dan *numerical* *feature*, penanganan apa yang bisa Anda lakukan terhadap *categorical feature* sebelum melakukan *clustering*? [8]"
   ],
   "metadata": {
    "id": "s84Ye7-do4eU"
   }
  },
  {
   "cell_type": "markdown",
   "source": [
    "> Jika kita ingin melakukan clustering pada dataset yang memiliki categorical dan numerical feature, dapat dilakukan encoding untuk mengubah categorical feature yang ada dapat menjadi numerical feature. Terdapat beberapa pilihan encoding yaitu pertama ada label/ordinal encoding dimana setiap kategori diubah menjadi integer value. Contohnya, pada atribut pulau_habitat setiap kategori pulau_habitat akan diubah menjadi angka 0,1,2 (berurutan). Selain label/ordinal encoding, dapat dilakukan one hot encoding untuk categorical feature yang tidak memiliki urutan karena jika dilakukan label/ordinal encoding berpotensi terjadi misleading saat clustering"
   ],
   "metadata": {}
  },
  {
   "cell_type": "markdown",
   "source": [
    "16. Mengapa K-Means *clustering* kurang cocok jika diterapkan pada dataset yang struktur/bentuk penyebarannya tidak globular? [8]"
   ],
   "metadata": {}
  },
  {
   "cell_type": "markdown",
   "source": [
    ">K-Means kurang cocok diterapkan pada dataset yang berstruktur non-globular karena K-Means membuat clustering berdasarkan jarak suatu data point dengan centroidnya, sementara jika dataset berstruktur non-globular, bisa saja data point yang akan dilakukan clustering diletakkan di centroid yang tidak tepat"
   ],
   "metadata": {}
  },
  {
   "cell_type": "markdown",
   "source": [
    "17. Apakah method KMeans dari sklearn akan memberikan hasil yang sama tiap kali dijalankan? Berikan penjelasan atau asumsi Anda terkait hal ini! [6]"
   ],
   "metadata": {}
  },
  {
   "cell_type": "markdown",
   "source": [
    ">Method KMeans tidak selalu memberikan hasil yang sama tiap kali dijalankan karena ketika kita melakukan clustering dengan KMeans, posisi centroid awalnya dipilih secara acak sehingga method KMeans dapat mengembalikan hasil cluster yang berbeda pada *run* yang berbeda. Untuk mengatasi hasil yang berbeda setiap dijalankan, kita dapat meng-*set* random state agar ketika method KMeans dijalankan dengan random initialization dapat selalu dimulai dengan K random data points yang sama sebagai centroid"
   ],
   "metadata": {}
  },
  {
   "cell_type": "markdown",
   "source": [
    "18. Jelaskan cara menghitung *intra-cluster similarity* dan *inter-cluster dissimilarity*! Secara umum, apakah yang membuat suatu klaster dianggap baik berdasarkan kedua metrik di atas? [8]"
   ],
   "metadata": {}
  },
  {
   "cell_type": "markdown",
   "source": [
    "> Terdapat berbagai cara untuk menghitung *Intra-cluster similarity*, salah satunya adalah dengan cara menghitung *sum* dari kuadrat jarak euclidean antara centroid dan setiap data point di dalam cluster. Sementara itu, *Inter-cluster disssimilarity* dapat dihitung dengan cara menghitung jarak antara masing-masing centroid cluster, semakin jauh jaraknya makin dissimliratynya semakin tinggi. Secara umum, suatu cluster dianggap baik jika memiliki *intra-cluster similarity* yang tinggi (*intra-cluster distance* yang rendah) dan memiliki *inter-cluster dissimilarity* yang tinggi (*intra-cluster distance yang tinggi)*"
   ],
   "metadata": {}
  }
 ],
 "metadata": {
  "colab": {
   "collapsed_sections": [
    "R39aUrRNqzhJ",
    "JnRUE1Ul62_R"
   ],
   "provenance": []
  },
  "kernelspec": {
   "name": "python3",
   "display_name": "Python 3.9.7 64-bit ('base': conda)"
  },
  "language_info": {
   "codemirror_mode": {
    "name": "ipython",
    "version": 3
   },
   "file_extension": ".py",
   "mimetype": "text/x-python",
   "name": "python",
   "nbconvert_exporter": "python",
   "pygments_lexer": "ipython3",
   "version": "3.9.7"
  },
  "interpreter": {
   "hash": "d4bc5013b275165c0154ac6808252086e41b04fe13009628c41341a3b0b4c9b9"
  }
 },
 "nbformat": 4,
 "nbformat_minor": 1
}